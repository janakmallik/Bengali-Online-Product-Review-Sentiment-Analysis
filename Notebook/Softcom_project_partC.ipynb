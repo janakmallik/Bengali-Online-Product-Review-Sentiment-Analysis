{
  "nbformat": 4,
  "nbformat_minor": 0,
  "metadata": {
    "colab": {
      "provenance": [],
      "gpuType": "T4"
    },
    "kernelspec": {
      "name": "python3",
      "display_name": "Python 3"
    },
    "language_info": {
      "name": "python"
    },
    "accelerator": "GPU",
    "widgets": {
      "application/vnd.jupyter.widget-state+json": {
        "5580ddc63f24408490b0c5269d7463a4": {
          "model_module": "@jupyter-widgets/controls",
          "model_name": "HBoxModel",
          "model_module_version": "1.5.0",
          "state": {
            "_dom_classes": [],
            "_model_module": "@jupyter-widgets/controls",
            "_model_module_version": "1.5.0",
            "_model_name": "HBoxModel",
            "_view_count": null,
            "_view_module": "@jupyter-widgets/controls",
            "_view_module_version": "1.5.0",
            "_view_name": "HBoxView",
            "box_style": "",
            "children": [
              "IPY_MODEL_01f5da6a4c3c4e47857cf52244c30635",
              "IPY_MODEL_8ea1d27b486e408eaa6c84b5d4c17f10",
              "IPY_MODEL_5a5e16c9e0714d12aed5fa2fa98bc63f"
            ],
            "layout": "IPY_MODEL_e9ebf7c6b95c40179c769be9af0fce87"
          }
        },
        "01f5da6a4c3c4e47857cf52244c30635": {
          "model_module": "@jupyter-widgets/controls",
          "model_name": "HTMLModel",
          "model_module_version": "1.5.0",
          "state": {
            "_dom_classes": [],
            "_model_module": "@jupyter-widgets/controls",
            "_model_module_version": "1.5.0",
            "_model_name": "HTMLModel",
            "_view_count": null,
            "_view_module": "@jupyter-widgets/controls",
            "_view_module_version": "1.5.0",
            "_view_name": "HTMLView",
            "description": "",
            "description_tooltip": null,
            "layout": "IPY_MODEL_3d82892b4c244d5386fe32ab42d4531b",
            "placeholder": "​",
            "style": "IPY_MODEL_3a7250ee8176408fb43c9310ab964517",
            "value": "tokenizer_config.json: 100%"
          }
        },
        "8ea1d27b486e408eaa6c84b5d4c17f10": {
          "model_module": "@jupyter-widgets/controls",
          "model_name": "FloatProgressModel",
          "model_module_version": "1.5.0",
          "state": {
            "_dom_classes": [],
            "_model_module": "@jupyter-widgets/controls",
            "_model_module_version": "1.5.0",
            "_model_name": "FloatProgressModel",
            "_view_count": null,
            "_view_module": "@jupyter-widgets/controls",
            "_view_module_version": "1.5.0",
            "_view_name": "ProgressView",
            "bar_style": "success",
            "description": "",
            "description_tooltip": null,
            "layout": "IPY_MODEL_435603dc232f45158d211bae7d9c0030",
            "max": 29,
            "min": 0,
            "orientation": "horizontal",
            "style": "IPY_MODEL_f871ae4561db4434b681b527c91b13f6",
            "value": 29
          }
        },
        "5a5e16c9e0714d12aed5fa2fa98bc63f": {
          "model_module": "@jupyter-widgets/controls",
          "model_name": "HTMLModel",
          "model_module_version": "1.5.0",
          "state": {
            "_dom_classes": [],
            "_model_module": "@jupyter-widgets/controls",
            "_model_module_version": "1.5.0",
            "_model_name": "HTMLModel",
            "_view_count": null,
            "_view_module": "@jupyter-widgets/controls",
            "_view_module_version": "1.5.0",
            "_view_name": "HTMLView",
            "description": "",
            "description_tooltip": null,
            "layout": "IPY_MODEL_4e53ecffc98f4f199d68cc3a10372a7a",
            "placeholder": "​",
            "style": "IPY_MODEL_6b80e99c3b024a06b503a8045daea813",
            "value": " 29.0/29.0 [00:00&lt;00:00, 795B/s]"
          }
        },
        "e9ebf7c6b95c40179c769be9af0fce87": {
          "model_module": "@jupyter-widgets/base",
          "model_name": "LayoutModel",
          "model_module_version": "1.2.0",
          "state": {
            "_model_module": "@jupyter-widgets/base",
            "_model_module_version": "1.2.0",
            "_model_name": "LayoutModel",
            "_view_count": null,
            "_view_module": "@jupyter-widgets/base",
            "_view_module_version": "1.2.0",
            "_view_name": "LayoutView",
            "align_content": null,
            "align_items": null,
            "align_self": null,
            "border": null,
            "bottom": null,
            "display": null,
            "flex": null,
            "flex_flow": null,
            "grid_area": null,
            "grid_auto_columns": null,
            "grid_auto_flow": null,
            "grid_auto_rows": null,
            "grid_column": null,
            "grid_gap": null,
            "grid_row": null,
            "grid_template_areas": null,
            "grid_template_columns": null,
            "grid_template_rows": null,
            "height": null,
            "justify_content": null,
            "justify_items": null,
            "left": null,
            "margin": null,
            "max_height": null,
            "max_width": null,
            "min_height": null,
            "min_width": null,
            "object_fit": null,
            "object_position": null,
            "order": null,
            "overflow": null,
            "overflow_x": null,
            "overflow_y": null,
            "padding": null,
            "right": null,
            "top": null,
            "visibility": null,
            "width": null
          }
        },
        "3d82892b4c244d5386fe32ab42d4531b": {
          "model_module": "@jupyter-widgets/base",
          "model_name": "LayoutModel",
          "model_module_version": "1.2.0",
          "state": {
            "_model_module": "@jupyter-widgets/base",
            "_model_module_version": "1.2.0",
            "_model_name": "LayoutModel",
            "_view_count": null,
            "_view_module": "@jupyter-widgets/base",
            "_view_module_version": "1.2.0",
            "_view_name": "LayoutView",
            "align_content": null,
            "align_items": null,
            "align_self": null,
            "border": null,
            "bottom": null,
            "display": null,
            "flex": null,
            "flex_flow": null,
            "grid_area": null,
            "grid_auto_columns": null,
            "grid_auto_flow": null,
            "grid_auto_rows": null,
            "grid_column": null,
            "grid_gap": null,
            "grid_row": null,
            "grid_template_areas": null,
            "grid_template_columns": null,
            "grid_template_rows": null,
            "height": null,
            "justify_content": null,
            "justify_items": null,
            "left": null,
            "margin": null,
            "max_height": null,
            "max_width": null,
            "min_height": null,
            "min_width": null,
            "object_fit": null,
            "object_position": null,
            "order": null,
            "overflow": null,
            "overflow_x": null,
            "overflow_y": null,
            "padding": null,
            "right": null,
            "top": null,
            "visibility": null,
            "width": null
          }
        },
        "3a7250ee8176408fb43c9310ab964517": {
          "model_module": "@jupyter-widgets/controls",
          "model_name": "DescriptionStyleModel",
          "model_module_version": "1.5.0",
          "state": {
            "_model_module": "@jupyter-widgets/controls",
            "_model_module_version": "1.5.0",
            "_model_name": "DescriptionStyleModel",
            "_view_count": null,
            "_view_module": "@jupyter-widgets/base",
            "_view_module_version": "1.2.0",
            "_view_name": "StyleView",
            "description_width": ""
          }
        },
        "435603dc232f45158d211bae7d9c0030": {
          "model_module": "@jupyter-widgets/base",
          "model_name": "LayoutModel",
          "model_module_version": "1.2.0",
          "state": {
            "_model_module": "@jupyter-widgets/base",
            "_model_module_version": "1.2.0",
            "_model_name": "LayoutModel",
            "_view_count": null,
            "_view_module": "@jupyter-widgets/base",
            "_view_module_version": "1.2.0",
            "_view_name": "LayoutView",
            "align_content": null,
            "align_items": null,
            "align_self": null,
            "border": null,
            "bottom": null,
            "display": null,
            "flex": null,
            "flex_flow": null,
            "grid_area": null,
            "grid_auto_columns": null,
            "grid_auto_flow": null,
            "grid_auto_rows": null,
            "grid_column": null,
            "grid_gap": null,
            "grid_row": null,
            "grid_template_areas": null,
            "grid_template_columns": null,
            "grid_template_rows": null,
            "height": null,
            "justify_content": null,
            "justify_items": null,
            "left": null,
            "margin": null,
            "max_height": null,
            "max_width": null,
            "min_height": null,
            "min_width": null,
            "object_fit": null,
            "object_position": null,
            "order": null,
            "overflow": null,
            "overflow_x": null,
            "overflow_y": null,
            "padding": null,
            "right": null,
            "top": null,
            "visibility": null,
            "width": null
          }
        },
        "f871ae4561db4434b681b527c91b13f6": {
          "model_module": "@jupyter-widgets/controls",
          "model_name": "ProgressStyleModel",
          "model_module_version": "1.5.0",
          "state": {
            "_model_module": "@jupyter-widgets/controls",
            "_model_module_version": "1.5.0",
            "_model_name": "ProgressStyleModel",
            "_view_count": null,
            "_view_module": "@jupyter-widgets/base",
            "_view_module_version": "1.2.0",
            "_view_name": "StyleView",
            "bar_color": null,
            "description_width": ""
          }
        },
        "4e53ecffc98f4f199d68cc3a10372a7a": {
          "model_module": "@jupyter-widgets/base",
          "model_name": "LayoutModel",
          "model_module_version": "1.2.0",
          "state": {
            "_model_module": "@jupyter-widgets/base",
            "_model_module_version": "1.2.0",
            "_model_name": "LayoutModel",
            "_view_count": null,
            "_view_module": "@jupyter-widgets/base",
            "_view_module_version": "1.2.0",
            "_view_name": "LayoutView",
            "align_content": null,
            "align_items": null,
            "align_self": null,
            "border": null,
            "bottom": null,
            "display": null,
            "flex": null,
            "flex_flow": null,
            "grid_area": null,
            "grid_auto_columns": null,
            "grid_auto_flow": null,
            "grid_auto_rows": null,
            "grid_column": null,
            "grid_gap": null,
            "grid_row": null,
            "grid_template_areas": null,
            "grid_template_columns": null,
            "grid_template_rows": null,
            "height": null,
            "justify_content": null,
            "justify_items": null,
            "left": null,
            "margin": null,
            "max_height": null,
            "max_width": null,
            "min_height": null,
            "min_width": null,
            "object_fit": null,
            "object_position": null,
            "order": null,
            "overflow": null,
            "overflow_x": null,
            "overflow_y": null,
            "padding": null,
            "right": null,
            "top": null,
            "visibility": null,
            "width": null
          }
        },
        "6b80e99c3b024a06b503a8045daea813": {
          "model_module": "@jupyter-widgets/controls",
          "model_name": "DescriptionStyleModel",
          "model_module_version": "1.5.0",
          "state": {
            "_model_module": "@jupyter-widgets/controls",
            "_model_module_version": "1.5.0",
            "_model_name": "DescriptionStyleModel",
            "_view_count": null,
            "_view_module": "@jupyter-widgets/base",
            "_view_module_version": "1.2.0",
            "_view_name": "StyleView",
            "description_width": ""
          }
        },
        "b7f69af312494a68927c6fd45b6d05a2": {
          "model_module": "@jupyter-widgets/controls",
          "model_name": "HBoxModel",
          "model_module_version": "1.5.0",
          "state": {
            "_dom_classes": [],
            "_model_module": "@jupyter-widgets/controls",
            "_model_module_version": "1.5.0",
            "_model_name": "HBoxModel",
            "_view_count": null,
            "_view_module": "@jupyter-widgets/controls",
            "_view_module_version": "1.5.0",
            "_view_name": "HBoxView",
            "box_style": "",
            "children": [
              "IPY_MODEL_b7257df22b58492891ac2d611d94b09c",
              "IPY_MODEL_b53d91f1cf1c4e01892707f6094b02e4",
              "IPY_MODEL_106700b5496b4fca92695a48dd3a9d28"
            ],
            "layout": "IPY_MODEL_351d3bb04fba43fdbc91f35dd67b0bbc"
          }
        },
        "b7257df22b58492891ac2d611d94b09c": {
          "model_module": "@jupyter-widgets/controls",
          "model_name": "HTMLModel",
          "model_module_version": "1.5.0",
          "state": {
            "_dom_classes": [],
            "_model_module": "@jupyter-widgets/controls",
            "_model_module_version": "1.5.0",
            "_model_name": "HTMLModel",
            "_view_count": null,
            "_view_module": "@jupyter-widgets/controls",
            "_view_module_version": "1.5.0",
            "_view_name": "HTMLView",
            "description": "",
            "description_tooltip": null,
            "layout": "IPY_MODEL_21d5a3040e0744719dc57c8fb15b220a",
            "placeholder": "​",
            "style": "IPY_MODEL_5e4918bfb7184b4489c0d016ee50232f",
            "value": "vocab.txt: 100%"
          }
        },
        "b53d91f1cf1c4e01892707f6094b02e4": {
          "model_module": "@jupyter-widgets/controls",
          "model_name": "FloatProgressModel",
          "model_module_version": "1.5.0",
          "state": {
            "_dom_classes": [],
            "_model_module": "@jupyter-widgets/controls",
            "_model_module_version": "1.5.0",
            "_model_name": "FloatProgressModel",
            "_view_count": null,
            "_view_module": "@jupyter-widgets/controls",
            "_view_module_version": "1.5.0",
            "_view_name": "ProgressView",
            "bar_style": "success",
            "description": "",
            "description_tooltip": null,
            "layout": "IPY_MODEL_bf84c1a02f4542afa3b4e8da7ac09b09",
            "max": 213450,
            "min": 0,
            "orientation": "horizontal",
            "style": "IPY_MODEL_efeea377f2b84c4ab6c4da244a17c23e",
            "value": 213450
          }
        },
        "106700b5496b4fca92695a48dd3a9d28": {
          "model_module": "@jupyter-widgets/controls",
          "model_name": "HTMLModel",
          "model_module_version": "1.5.0",
          "state": {
            "_dom_classes": [],
            "_model_module": "@jupyter-widgets/controls",
            "_model_module_version": "1.5.0",
            "_model_name": "HTMLModel",
            "_view_count": null,
            "_view_module": "@jupyter-widgets/controls",
            "_view_module_version": "1.5.0",
            "_view_name": "HTMLView",
            "description": "",
            "description_tooltip": null,
            "layout": "IPY_MODEL_f7d0780444b8480ca49b018d41194c1a",
            "placeholder": "​",
            "style": "IPY_MODEL_a3129d9e2ad24521927a718114e84d30",
            "value": " 213k/213k [00:00&lt;00:00, 1.05MB/s]"
          }
        },
        "351d3bb04fba43fdbc91f35dd67b0bbc": {
          "model_module": "@jupyter-widgets/base",
          "model_name": "LayoutModel",
          "model_module_version": "1.2.0",
          "state": {
            "_model_module": "@jupyter-widgets/base",
            "_model_module_version": "1.2.0",
            "_model_name": "LayoutModel",
            "_view_count": null,
            "_view_module": "@jupyter-widgets/base",
            "_view_module_version": "1.2.0",
            "_view_name": "LayoutView",
            "align_content": null,
            "align_items": null,
            "align_self": null,
            "border": null,
            "bottom": null,
            "display": null,
            "flex": null,
            "flex_flow": null,
            "grid_area": null,
            "grid_auto_columns": null,
            "grid_auto_flow": null,
            "grid_auto_rows": null,
            "grid_column": null,
            "grid_gap": null,
            "grid_row": null,
            "grid_template_areas": null,
            "grid_template_columns": null,
            "grid_template_rows": null,
            "height": null,
            "justify_content": null,
            "justify_items": null,
            "left": null,
            "margin": null,
            "max_height": null,
            "max_width": null,
            "min_height": null,
            "min_width": null,
            "object_fit": null,
            "object_position": null,
            "order": null,
            "overflow": null,
            "overflow_x": null,
            "overflow_y": null,
            "padding": null,
            "right": null,
            "top": null,
            "visibility": null,
            "width": null
          }
        },
        "21d5a3040e0744719dc57c8fb15b220a": {
          "model_module": "@jupyter-widgets/base",
          "model_name": "LayoutModel",
          "model_module_version": "1.2.0",
          "state": {
            "_model_module": "@jupyter-widgets/base",
            "_model_module_version": "1.2.0",
            "_model_name": "LayoutModel",
            "_view_count": null,
            "_view_module": "@jupyter-widgets/base",
            "_view_module_version": "1.2.0",
            "_view_name": "LayoutView",
            "align_content": null,
            "align_items": null,
            "align_self": null,
            "border": null,
            "bottom": null,
            "display": null,
            "flex": null,
            "flex_flow": null,
            "grid_area": null,
            "grid_auto_columns": null,
            "grid_auto_flow": null,
            "grid_auto_rows": null,
            "grid_column": null,
            "grid_gap": null,
            "grid_row": null,
            "grid_template_areas": null,
            "grid_template_columns": null,
            "grid_template_rows": null,
            "height": null,
            "justify_content": null,
            "justify_items": null,
            "left": null,
            "margin": null,
            "max_height": null,
            "max_width": null,
            "min_height": null,
            "min_width": null,
            "object_fit": null,
            "object_position": null,
            "order": null,
            "overflow": null,
            "overflow_x": null,
            "overflow_y": null,
            "padding": null,
            "right": null,
            "top": null,
            "visibility": null,
            "width": null
          }
        },
        "5e4918bfb7184b4489c0d016ee50232f": {
          "model_module": "@jupyter-widgets/controls",
          "model_name": "DescriptionStyleModel",
          "model_module_version": "1.5.0",
          "state": {
            "_model_module": "@jupyter-widgets/controls",
            "_model_module_version": "1.5.0",
            "_model_name": "DescriptionStyleModel",
            "_view_count": null,
            "_view_module": "@jupyter-widgets/base",
            "_view_module_version": "1.2.0",
            "_view_name": "StyleView",
            "description_width": ""
          }
        },
        "bf84c1a02f4542afa3b4e8da7ac09b09": {
          "model_module": "@jupyter-widgets/base",
          "model_name": "LayoutModel",
          "model_module_version": "1.2.0",
          "state": {
            "_model_module": "@jupyter-widgets/base",
            "_model_module_version": "1.2.0",
            "_model_name": "LayoutModel",
            "_view_count": null,
            "_view_module": "@jupyter-widgets/base",
            "_view_module_version": "1.2.0",
            "_view_name": "LayoutView",
            "align_content": null,
            "align_items": null,
            "align_self": null,
            "border": null,
            "bottom": null,
            "display": null,
            "flex": null,
            "flex_flow": null,
            "grid_area": null,
            "grid_auto_columns": null,
            "grid_auto_flow": null,
            "grid_auto_rows": null,
            "grid_column": null,
            "grid_gap": null,
            "grid_row": null,
            "grid_template_areas": null,
            "grid_template_columns": null,
            "grid_template_rows": null,
            "height": null,
            "justify_content": null,
            "justify_items": null,
            "left": null,
            "margin": null,
            "max_height": null,
            "max_width": null,
            "min_height": null,
            "min_width": null,
            "object_fit": null,
            "object_position": null,
            "order": null,
            "overflow": null,
            "overflow_x": null,
            "overflow_y": null,
            "padding": null,
            "right": null,
            "top": null,
            "visibility": null,
            "width": null
          }
        },
        "efeea377f2b84c4ab6c4da244a17c23e": {
          "model_module": "@jupyter-widgets/controls",
          "model_name": "ProgressStyleModel",
          "model_module_version": "1.5.0",
          "state": {
            "_model_module": "@jupyter-widgets/controls",
            "_model_module_version": "1.5.0",
            "_model_name": "ProgressStyleModel",
            "_view_count": null,
            "_view_module": "@jupyter-widgets/base",
            "_view_module_version": "1.2.0",
            "_view_name": "StyleView",
            "bar_color": null,
            "description_width": ""
          }
        },
        "f7d0780444b8480ca49b018d41194c1a": {
          "model_module": "@jupyter-widgets/base",
          "model_name": "LayoutModel",
          "model_module_version": "1.2.0",
          "state": {
            "_model_module": "@jupyter-widgets/base",
            "_model_module_version": "1.2.0",
            "_model_name": "LayoutModel",
            "_view_count": null,
            "_view_module": "@jupyter-widgets/base",
            "_view_module_version": "1.2.0",
            "_view_name": "LayoutView",
            "align_content": null,
            "align_items": null,
            "align_self": null,
            "border": null,
            "bottom": null,
            "display": null,
            "flex": null,
            "flex_flow": null,
            "grid_area": null,
            "grid_auto_columns": null,
            "grid_auto_flow": null,
            "grid_auto_rows": null,
            "grid_column": null,
            "grid_gap": null,
            "grid_row": null,
            "grid_template_areas": null,
            "grid_template_columns": null,
            "grid_template_rows": null,
            "height": null,
            "justify_content": null,
            "justify_items": null,
            "left": null,
            "margin": null,
            "max_height": null,
            "max_width": null,
            "min_height": null,
            "min_width": null,
            "object_fit": null,
            "object_position": null,
            "order": null,
            "overflow": null,
            "overflow_x": null,
            "overflow_y": null,
            "padding": null,
            "right": null,
            "top": null,
            "visibility": null,
            "width": null
          }
        },
        "a3129d9e2ad24521927a718114e84d30": {
          "model_module": "@jupyter-widgets/controls",
          "model_name": "DescriptionStyleModel",
          "model_module_version": "1.5.0",
          "state": {
            "_model_module": "@jupyter-widgets/controls",
            "_model_module_version": "1.5.0",
            "_model_name": "DescriptionStyleModel",
            "_view_count": null,
            "_view_module": "@jupyter-widgets/base",
            "_view_module_version": "1.2.0",
            "_view_name": "StyleView",
            "description_width": ""
          }
        },
        "b6f1ec554aac459d98bc5202e5f24fc0": {
          "model_module": "@jupyter-widgets/controls",
          "model_name": "HBoxModel",
          "model_module_version": "1.5.0",
          "state": {
            "_dom_classes": [],
            "_model_module": "@jupyter-widgets/controls",
            "_model_module_version": "1.5.0",
            "_model_name": "HBoxModel",
            "_view_count": null,
            "_view_module": "@jupyter-widgets/controls",
            "_view_module_version": "1.5.0",
            "_view_name": "HBoxView",
            "box_style": "",
            "children": [
              "IPY_MODEL_3458a80fcb814fed8a1d65f1a1ff876f",
              "IPY_MODEL_6be6290a4d7a4d98ba411b1e2f1e04e2",
              "IPY_MODEL_841bff5875c24ee8a4871e0e7943e4ac"
            ],
            "layout": "IPY_MODEL_e6575abe66b646f5a87ca24f92105a8d"
          }
        },
        "3458a80fcb814fed8a1d65f1a1ff876f": {
          "model_module": "@jupyter-widgets/controls",
          "model_name": "HTMLModel",
          "model_module_version": "1.5.0",
          "state": {
            "_dom_classes": [],
            "_model_module": "@jupyter-widgets/controls",
            "_model_module_version": "1.5.0",
            "_model_name": "HTMLModel",
            "_view_count": null,
            "_view_module": "@jupyter-widgets/controls",
            "_view_module_version": "1.5.0",
            "_view_name": "HTMLView",
            "description": "",
            "description_tooltip": null,
            "layout": "IPY_MODEL_2ba13f3ea5d6456380622b955ff30ecb",
            "placeholder": "​",
            "style": "IPY_MODEL_e8d63130934b473cb179eeca9dd1cf01",
            "value": "tokenizer.json: 100%"
          }
        },
        "6be6290a4d7a4d98ba411b1e2f1e04e2": {
          "model_module": "@jupyter-widgets/controls",
          "model_name": "FloatProgressModel",
          "model_module_version": "1.5.0",
          "state": {
            "_dom_classes": [],
            "_model_module": "@jupyter-widgets/controls",
            "_model_module_version": "1.5.0",
            "_model_name": "FloatProgressModel",
            "_view_count": null,
            "_view_module": "@jupyter-widgets/controls",
            "_view_module_version": "1.5.0",
            "_view_name": "ProgressView",
            "bar_style": "success",
            "description": "",
            "description_tooltip": null,
            "layout": "IPY_MODEL_f7eb4819e0da48c0a6040d3c1e58a149",
            "max": 435797,
            "min": 0,
            "orientation": "horizontal",
            "style": "IPY_MODEL_4d540796fadb49c5b738487081e9d2b2",
            "value": 435797
          }
        },
        "841bff5875c24ee8a4871e0e7943e4ac": {
          "model_module": "@jupyter-widgets/controls",
          "model_name": "HTMLModel",
          "model_module_version": "1.5.0",
          "state": {
            "_dom_classes": [],
            "_model_module": "@jupyter-widgets/controls",
            "_model_module_version": "1.5.0",
            "_model_name": "HTMLModel",
            "_view_count": null,
            "_view_module": "@jupyter-widgets/controls",
            "_view_module_version": "1.5.0",
            "_view_name": "HTMLView",
            "description": "",
            "description_tooltip": null,
            "layout": "IPY_MODEL_fefb5a588c8d4a2f907156d327fb3924",
            "placeholder": "​",
            "style": "IPY_MODEL_76d8b83300cf409cacc2b2385bdce0c2",
            "value": " 436k/436k [00:00&lt;00:00, 3.63MB/s]"
          }
        },
        "e6575abe66b646f5a87ca24f92105a8d": {
          "model_module": "@jupyter-widgets/base",
          "model_name": "LayoutModel",
          "model_module_version": "1.2.0",
          "state": {
            "_model_module": "@jupyter-widgets/base",
            "_model_module_version": "1.2.0",
            "_model_name": "LayoutModel",
            "_view_count": null,
            "_view_module": "@jupyter-widgets/base",
            "_view_module_version": "1.2.0",
            "_view_name": "LayoutView",
            "align_content": null,
            "align_items": null,
            "align_self": null,
            "border": null,
            "bottom": null,
            "display": null,
            "flex": null,
            "flex_flow": null,
            "grid_area": null,
            "grid_auto_columns": null,
            "grid_auto_flow": null,
            "grid_auto_rows": null,
            "grid_column": null,
            "grid_gap": null,
            "grid_row": null,
            "grid_template_areas": null,
            "grid_template_columns": null,
            "grid_template_rows": null,
            "height": null,
            "justify_content": null,
            "justify_items": null,
            "left": null,
            "margin": null,
            "max_height": null,
            "max_width": null,
            "min_height": null,
            "min_width": null,
            "object_fit": null,
            "object_position": null,
            "order": null,
            "overflow": null,
            "overflow_x": null,
            "overflow_y": null,
            "padding": null,
            "right": null,
            "top": null,
            "visibility": null,
            "width": null
          }
        },
        "2ba13f3ea5d6456380622b955ff30ecb": {
          "model_module": "@jupyter-widgets/base",
          "model_name": "LayoutModel",
          "model_module_version": "1.2.0",
          "state": {
            "_model_module": "@jupyter-widgets/base",
            "_model_module_version": "1.2.0",
            "_model_name": "LayoutModel",
            "_view_count": null,
            "_view_module": "@jupyter-widgets/base",
            "_view_module_version": "1.2.0",
            "_view_name": "LayoutView",
            "align_content": null,
            "align_items": null,
            "align_self": null,
            "border": null,
            "bottom": null,
            "display": null,
            "flex": null,
            "flex_flow": null,
            "grid_area": null,
            "grid_auto_columns": null,
            "grid_auto_flow": null,
            "grid_auto_rows": null,
            "grid_column": null,
            "grid_gap": null,
            "grid_row": null,
            "grid_template_areas": null,
            "grid_template_columns": null,
            "grid_template_rows": null,
            "height": null,
            "justify_content": null,
            "justify_items": null,
            "left": null,
            "margin": null,
            "max_height": null,
            "max_width": null,
            "min_height": null,
            "min_width": null,
            "object_fit": null,
            "object_position": null,
            "order": null,
            "overflow": null,
            "overflow_x": null,
            "overflow_y": null,
            "padding": null,
            "right": null,
            "top": null,
            "visibility": null,
            "width": null
          }
        },
        "e8d63130934b473cb179eeca9dd1cf01": {
          "model_module": "@jupyter-widgets/controls",
          "model_name": "DescriptionStyleModel",
          "model_module_version": "1.5.0",
          "state": {
            "_model_module": "@jupyter-widgets/controls",
            "_model_module_version": "1.5.0",
            "_model_name": "DescriptionStyleModel",
            "_view_count": null,
            "_view_module": "@jupyter-widgets/base",
            "_view_module_version": "1.2.0",
            "_view_name": "StyleView",
            "description_width": ""
          }
        },
        "f7eb4819e0da48c0a6040d3c1e58a149": {
          "model_module": "@jupyter-widgets/base",
          "model_name": "LayoutModel",
          "model_module_version": "1.2.0",
          "state": {
            "_model_module": "@jupyter-widgets/base",
            "_model_module_version": "1.2.0",
            "_model_name": "LayoutModel",
            "_view_count": null,
            "_view_module": "@jupyter-widgets/base",
            "_view_module_version": "1.2.0",
            "_view_name": "LayoutView",
            "align_content": null,
            "align_items": null,
            "align_self": null,
            "border": null,
            "bottom": null,
            "display": null,
            "flex": null,
            "flex_flow": null,
            "grid_area": null,
            "grid_auto_columns": null,
            "grid_auto_flow": null,
            "grid_auto_rows": null,
            "grid_column": null,
            "grid_gap": null,
            "grid_row": null,
            "grid_template_areas": null,
            "grid_template_columns": null,
            "grid_template_rows": null,
            "height": null,
            "justify_content": null,
            "justify_items": null,
            "left": null,
            "margin": null,
            "max_height": null,
            "max_width": null,
            "min_height": null,
            "min_width": null,
            "object_fit": null,
            "object_position": null,
            "order": null,
            "overflow": null,
            "overflow_x": null,
            "overflow_y": null,
            "padding": null,
            "right": null,
            "top": null,
            "visibility": null,
            "width": null
          }
        },
        "4d540796fadb49c5b738487081e9d2b2": {
          "model_module": "@jupyter-widgets/controls",
          "model_name": "ProgressStyleModel",
          "model_module_version": "1.5.0",
          "state": {
            "_model_module": "@jupyter-widgets/controls",
            "_model_module_version": "1.5.0",
            "_model_name": "ProgressStyleModel",
            "_view_count": null,
            "_view_module": "@jupyter-widgets/base",
            "_view_module_version": "1.2.0",
            "_view_name": "StyleView",
            "bar_color": null,
            "description_width": ""
          }
        },
        "fefb5a588c8d4a2f907156d327fb3924": {
          "model_module": "@jupyter-widgets/base",
          "model_name": "LayoutModel",
          "model_module_version": "1.2.0",
          "state": {
            "_model_module": "@jupyter-widgets/base",
            "_model_module_version": "1.2.0",
            "_model_name": "LayoutModel",
            "_view_count": null,
            "_view_module": "@jupyter-widgets/base",
            "_view_module_version": "1.2.0",
            "_view_name": "LayoutView",
            "align_content": null,
            "align_items": null,
            "align_self": null,
            "border": null,
            "bottom": null,
            "display": null,
            "flex": null,
            "flex_flow": null,
            "grid_area": null,
            "grid_auto_columns": null,
            "grid_auto_flow": null,
            "grid_auto_rows": null,
            "grid_column": null,
            "grid_gap": null,
            "grid_row": null,
            "grid_template_areas": null,
            "grid_template_columns": null,
            "grid_template_rows": null,
            "height": null,
            "justify_content": null,
            "justify_items": null,
            "left": null,
            "margin": null,
            "max_height": null,
            "max_width": null,
            "min_height": null,
            "min_width": null,
            "object_fit": null,
            "object_position": null,
            "order": null,
            "overflow": null,
            "overflow_x": null,
            "overflow_y": null,
            "padding": null,
            "right": null,
            "top": null,
            "visibility": null,
            "width": null
          }
        },
        "76d8b83300cf409cacc2b2385bdce0c2": {
          "model_module": "@jupyter-widgets/controls",
          "model_name": "DescriptionStyleModel",
          "model_module_version": "1.5.0",
          "state": {
            "_model_module": "@jupyter-widgets/controls",
            "_model_module_version": "1.5.0",
            "_model_name": "DescriptionStyleModel",
            "_view_count": null,
            "_view_module": "@jupyter-widgets/base",
            "_view_module_version": "1.2.0",
            "_view_name": "StyleView",
            "description_width": ""
          }
        },
        "fca29a6517d44287aefc5daf9bb67f90": {
          "model_module": "@jupyter-widgets/controls",
          "model_name": "HBoxModel",
          "model_module_version": "1.5.0",
          "state": {
            "_dom_classes": [],
            "_model_module": "@jupyter-widgets/controls",
            "_model_module_version": "1.5.0",
            "_model_name": "HBoxModel",
            "_view_count": null,
            "_view_module": "@jupyter-widgets/controls",
            "_view_module_version": "1.5.0",
            "_view_name": "HBoxView",
            "box_style": "",
            "children": [
              "IPY_MODEL_e0be4a1123aa453fa9fbb9821b12a6cf",
              "IPY_MODEL_a5470a205be147968daa92f2ca82d65a",
              "IPY_MODEL_d129f3dbe2644b2a91bed0bb9220e210"
            ],
            "layout": "IPY_MODEL_39e90595dbee4cd4a3f974b6e3f9e627"
          }
        },
        "e0be4a1123aa453fa9fbb9821b12a6cf": {
          "model_module": "@jupyter-widgets/controls",
          "model_name": "HTMLModel",
          "model_module_version": "1.5.0",
          "state": {
            "_dom_classes": [],
            "_model_module": "@jupyter-widgets/controls",
            "_model_module_version": "1.5.0",
            "_model_name": "HTMLModel",
            "_view_count": null,
            "_view_module": "@jupyter-widgets/controls",
            "_view_module_version": "1.5.0",
            "_view_name": "HTMLView",
            "description": "",
            "description_tooltip": null,
            "layout": "IPY_MODEL_40d05baf01b1489d9776526269e4a7b4",
            "placeholder": "​",
            "style": "IPY_MODEL_a8c66bffa4b34871a54ceb9966c2dfe4",
            "value": "config.json: 100%"
          }
        },
        "a5470a205be147968daa92f2ca82d65a": {
          "model_module": "@jupyter-widgets/controls",
          "model_name": "FloatProgressModel",
          "model_module_version": "1.5.0",
          "state": {
            "_dom_classes": [],
            "_model_module": "@jupyter-widgets/controls",
            "_model_module_version": "1.5.0",
            "_model_name": "FloatProgressModel",
            "_view_count": null,
            "_view_module": "@jupyter-widgets/controls",
            "_view_module_version": "1.5.0",
            "_view_name": "ProgressView",
            "bar_style": "success",
            "description": "",
            "description_tooltip": null,
            "layout": "IPY_MODEL_f6f3ac24fe4c4f268d5279cc5a36d3ea",
            "max": 570,
            "min": 0,
            "orientation": "horizontal",
            "style": "IPY_MODEL_8978b839159e45a9ac2035c548ea48f0",
            "value": 570
          }
        },
        "d129f3dbe2644b2a91bed0bb9220e210": {
          "model_module": "@jupyter-widgets/controls",
          "model_name": "HTMLModel",
          "model_module_version": "1.5.0",
          "state": {
            "_dom_classes": [],
            "_model_module": "@jupyter-widgets/controls",
            "_model_module_version": "1.5.0",
            "_model_name": "HTMLModel",
            "_view_count": null,
            "_view_module": "@jupyter-widgets/controls",
            "_view_module_version": "1.5.0",
            "_view_name": "HTMLView",
            "description": "",
            "description_tooltip": null,
            "layout": "IPY_MODEL_4217d852da784a2e9c83a1f824f8a3db",
            "placeholder": "​",
            "style": "IPY_MODEL_d684a5ff92c244f7b71223ca6ceaf13e",
            "value": " 570/570 [00:00&lt;00:00, 13.4kB/s]"
          }
        },
        "39e90595dbee4cd4a3f974b6e3f9e627": {
          "model_module": "@jupyter-widgets/base",
          "model_name": "LayoutModel",
          "model_module_version": "1.2.0",
          "state": {
            "_model_module": "@jupyter-widgets/base",
            "_model_module_version": "1.2.0",
            "_model_name": "LayoutModel",
            "_view_count": null,
            "_view_module": "@jupyter-widgets/base",
            "_view_module_version": "1.2.0",
            "_view_name": "LayoutView",
            "align_content": null,
            "align_items": null,
            "align_self": null,
            "border": null,
            "bottom": null,
            "display": null,
            "flex": null,
            "flex_flow": null,
            "grid_area": null,
            "grid_auto_columns": null,
            "grid_auto_flow": null,
            "grid_auto_rows": null,
            "grid_column": null,
            "grid_gap": null,
            "grid_row": null,
            "grid_template_areas": null,
            "grid_template_columns": null,
            "grid_template_rows": null,
            "height": null,
            "justify_content": null,
            "justify_items": null,
            "left": null,
            "margin": null,
            "max_height": null,
            "max_width": null,
            "min_height": null,
            "min_width": null,
            "object_fit": null,
            "object_position": null,
            "order": null,
            "overflow": null,
            "overflow_x": null,
            "overflow_y": null,
            "padding": null,
            "right": null,
            "top": null,
            "visibility": null,
            "width": null
          }
        },
        "40d05baf01b1489d9776526269e4a7b4": {
          "model_module": "@jupyter-widgets/base",
          "model_name": "LayoutModel",
          "model_module_version": "1.2.0",
          "state": {
            "_model_module": "@jupyter-widgets/base",
            "_model_module_version": "1.2.0",
            "_model_name": "LayoutModel",
            "_view_count": null,
            "_view_module": "@jupyter-widgets/base",
            "_view_module_version": "1.2.0",
            "_view_name": "LayoutView",
            "align_content": null,
            "align_items": null,
            "align_self": null,
            "border": null,
            "bottom": null,
            "display": null,
            "flex": null,
            "flex_flow": null,
            "grid_area": null,
            "grid_auto_columns": null,
            "grid_auto_flow": null,
            "grid_auto_rows": null,
            "grid_column": null,
            "grid_gap": null,
            "grid_row": null,
            "grid_template_areas": null,
            "grid_template_columns": null,
            "grid_template_rows": null,
            "height": null,
            "justify_content": null,
            "justify_items": null,
            "left": null,
            "margin": null,
            "max_height": null,
            "max_width": null,
            "min_height": null,
            "min_width": null,
            "object_fit": null,
            "object_position": null,
            "order": null,
            "overflow": null,
            "overflow_x": null,
            "overflow_y": null,
            "padding": null,
            "right": null,
            "top": null,
            "visibility": null,
            "width": null
          }
        },
        "a8c66bffa4b34871a54ceb9966c2dfe4": {
          "model_module": "@jupyter-widgets/controls",
          "model_name": "DescriptionStyleModel",
          "model_module_version": "1.5.0",
          "state": {
            "_model_module": "@jupyter-widgets/controls",
            "_model_module_version": "1.5.0",
            "_model_name": "DescriptionStyleModel",
            "_view_count": null,
            "_view_module": "@jupyter-widgets/base",
            "_view_module_version": "1.2.0",
            "_view_name": "StyleView",
            "description_width": ""
          }
        },
        "f6f3ac24fe4c4f268d5279cc5a36d3ea": {
          "model_module": "@jupyter-widgets/base",
          "model_name": "LayoutModel",
          "model_module_version": "1.2.0",
          "state": {
            "_model_module": "@jupyter-widgets/base",
            "_model_module_version": "1.2.0",
            "_model_name": "LayoutModel",
            "_view_count": null,
            "_view_module": "@jupyter-widgets/base",
            "_view_module_version": "1.2.0",
            "_view_name": "LayoutView",
            "align_content": null,
            "align_items": null,
            "align_self": null,
            "border": null,
            "bottom": null,
            "display": null,
            "flex": null,
            "flex_flow": null,
            "grid_area": null,
            "grid_auto_columns": null,
            "grid_auto_flow": null,
            "grid_auto_rows": null,
            "grid_column": null,
            "grid_gap": null,
            "grid_row": null,
            "grid_template_areas": null,
            "grid_template_columns": null,
            "grid_template_rows": null,
            "height": null,
            "justify_content": null,
            "justify_items": null,
            "left": null,
            "margin": null,
            "max_height": null,
            "max_width": null,
            "min_height": null,
            "min_width": null,
            "object_fit": null,
            "object_position": null,
            "order": null,
            "overflow": null,
            "overflow_x": null,
            "overflow_y": null,
            "padding": null,
            "right": null,
            "top": null,
            "visibility": null,
            "width": null
          }
        },
        "8978b839159e45a9ac2035c548ea48f0": {
          "model_module": "@jupyter-widgets/controls",
          "model_name": "ProgressStyleModel",
          "model_module_version": "1.5.0",
          "state": {
            "_model_module": "@jupyter-widgets/controls",
            "_model_module_version": "1.5.0",
            "_model_name": "ProgressStyleModel",
            "_view_count": null,
            "_view_module": "@jupyter-widgets/base",
            "_view_module_version": "1.2.0",
            "_view_name": "StyleView",
            "bar_color": null,
            "description_width": ""
          }
        },
        "4217d852da784a2e9c83a1f824f8a3db": {
          "model_module": "@jupyter-widgets/base",
          "model_name": "LayoutModel",
          "model_module_version": "1.2.0",
          "state": {
            "_model_module": "@jupyter-widgets/base",
            "_model_module_version": "1.2.0",
            "_model_name": "LayoutModel",
            "_view_count": null,
            "_view_module": "@jupyter-widgets/base",
            "_view_module_version": "1.2.0",
            "_view_name": "LayoutView",
            "align_content": null,
            "align_items": null,
            "align_self": null,
            "border": null,
            "bottom": null,
            "display": null,
            "flex": null,
            "flex_flow": null,
            "grid_area": null,
            "grid_auto_columns": null,
            "grid_auto_flow": null,
            "grid_auto_rows": null,
            "grid_column": null,
            "grid_gap": null,
            "grid_row": null,
            "grid_template_areas": null,
            "grid_template_columns": null,
            "grid_template_rows": null,
            "height": null,
            "justify_content": null,
            "justify_items": null,
            "left": null,
            "margin": null,
            "max_height": null,
            "max_width": null,
            "min_height": null,
            "min_width": null,
            "object_fit": null,
            "object_position": null,
            "order": null,
            "overflow": null,
            "overflow_x": null,
            "overflow_y": null,
            "padding": null,
            "right": null,
            "top": null,
            "visibility": null,
            "width": null
          }
        },
        "d684a5ff92c244f7b71223ca6ceaf13e": {
          "model_module": "@jupyter-widgets/controls",
          "model_name": "DescriptionStyleModel",
          "model_module_version": "1.5.0",
          "state": {
            "_model_module": "@jupyter-widgets/controls",
            "_model_module_version": "1.5.0",
            "_model_name": "DescriptionStyleModel",
            "_view_count": null,
            "_view_module": "@jupyter-widgets/base",
            "_view_module_version": "1.2.0",
            "_view_name": "StyleView",
            "description_width": ""
          }
        },
        "cc69150514f9405aa8da9096b4523171": {
          "model_module": "@jupyter-widgets/controls",
          "model_name": "HBoxModel",
          "model_module_version": "1.5.0",
          "state": {
            "_dom_classes": [],
            "_model_module": "@jupyter-widgets/controls",
            "_model_module_version": "1.5.0",
            "_model_name": "HBoxModel",
            "_view_count": null,
            "_view_module": "@jupyter-widgets/controls",
            "_view_module_version": "1.5.0",
            "_view_name": "HBoxView",
            "box_style": "",
            "children": [
              "IPY_MODEL_47549fd068da4ff18f965c0630d27dae",
              "IPY_MODEL_fa67f42b16a8409d80defff8189f0f29",
              "IPY_MODEL_744a50c29e994887949ccd5b34f694e0"
            ],
            "layout": "IPY_MODEL_32ab0652ebfc4300ba1830d72b7aff4a"
          }
        },
        "47549fd068da4ff18f965c0630d27dae": {
          "model_module": "@jupyter-widgets/controls",
          "model_name": "HTMLModel",
          "model_module_version": "1.5.0",
          "state": {
            "_dom_classes": [],
            "_model_module": "@jupyter-widgets/controls",
            "_model_module_version": "1.5.0",
            "_model_name": "HTMLModel",
            "_view_count": null,
            "_view_module": "@jupyter-widgets/controls",
            "_view_module_version": "1.5.0",
            "_view_name": "HTMLView",
            "description": "",
            "description_tooltip": null,
            "layout": "IPY_MODEL_2ffcafd79a5c49c09fe9a3caaba633ae",
            "placeholder": "​",
            "style": "IPY_MODEL_5edf21c4c90b4a4a9b0c5eb92e6d736e",
            "value": "model.safetensors: 100%"
          }
        },
        "fa67f42b16a8409d80defff8189f0f29": {
          "model_module": "@jupyter-widgets/controls",
          "model_name": "FloatProgressModel",
          "model_module_version": "1.5.0",
          "state": {
            "_dom_classes": [],
            "_model_module": "@jupyter-widgets/controls",
            "_model_module_version": "1.5.0",
            "_model_name": "FloatProgressModel",
            "_view_count": null,
            "_view_module": "@jupyter-widgets/controls",
            "_view_module_version": "1.5.0",
            "_view_name": "ProgressView",
            "bar_style": "success",
            "description": "",
            "description_tooltip": null,
            "layout": "IPY_MODEL_b371d91a983e4980b0827a94991118df",
            "max": 435755784,
            "min": 0,
            "orientation": "horizontal",
            "style": "IPY_MODEL_4357c55ba47644e6962e6fa9a46dcd4a",
            "value": 435755784
          }
        },
        "744a50c29e994887949ccd5b34f694e0": {
          "model_module": "@jupyter-widgets/controls",
          "model_name": "HTMLModel",
          "model_module_version": "1.5.0",
          "state": {
            "_dom_classes": [],
            "_model_module": "@jupyter-widgets/controls",
            "_model_module_version": "1.5.0",
            "_model_name": "HTMLModel",
            "_view_count": null,
            "_view_module": "@jupyter-widgets/controls",
            "_view_module_version": "1.5.0",
            "_view_name": "HTMLView",
            "description": "",
            "description_tooltip": null,
            "layout": "IPY_MODEL_a4b6ec005f2a47b0bcd353a34c5dcd0a",
            "placeholder": "​",
            "style": "IPY_MODEL_ce8482eb22924390b19f18add44debb0",
            "value": " 436M/436M [00:02&lt;00:00, 192MB/s]"
          }
        },
        "32ab0652ebfc4300ba1830d72b7aff4a": {
          "model_module": "@jupyter-widgets/base",
          "model_name": "LayoutModel",
          "model_module_version": "1.2.0",
          "state": {
            "_model_module": "@jupyter-widgets/base",
            "_model_module_version": "1.2.0",
            "_model_name": "LayoutModel",
            "_view_count": null,
            "_view_module": "@jupyter-widgets/base",
            "_view_module_version": "1.2.0",
            "_view_name": "LayoutView",
            "align_content": null,
            "align_items": null,
            "align_self": null,
            "border": null,
            "bottom": null,
            "display": null,
            "flex": null,
            "flex_flow": null,
            "grid_area": null,
            "grid_auto_columns": null,
            "grid_auto_flow": null,
            "grid_auto_rows": null,
            "grid_column": null,
            "grid_gap": null,
            "grid_row": null,
            "grid_template_areas": null,
            "grid_template_columns": null,
            "grid_template_rows": null,
            "height": null,
            "justify_content": null,
            "justify_items": null,
            "left": null,
            "margin": null,
            "max_height": null,
            "max_width": null,
            "min_height": null,
            "min_width": null,
            "object_fit": null,
            "object_position": null,
            "order": null,
            "overflow": null,
            "overflow_x": null,
            "overflow_y": null,
            "padding": null,
            "right": null,
            "top": null,
            "visibility": null,
            "width": null
          }
        },
        "2ffcafd79a5c49c09fe9a3caaba633ae": {
          "model_module": "@jupyter-widgets/base",
          "model_name": "LayoutModel",
          "model_module_version": "1.2.0",
          "state": {
            "_model_module": "@jupyter-widgets/base",
            "_model_module_version": "1.2.0",
            "_model_name": "LayoutModel",
            "_view_count": null,
            "_view_module": "@jupyter-widgets/base",
            "_view_module_version": "1.2.0",
            "_view_name": "LayoutView",
            "align_content": null,
            "align_items": null,
            "align_self": null,
            "border": null,
            "bottom": null,
            "display": null,
            "flex": null,
            "flex_flow": null,
            "grid_area": null,
            "grid_auto_columns": null,
            "grid_auto_flow": null,
            "grid_auto_rows": null,
            "grid_column": null,
            "grid_gap": null,
            "grid_row": null,
            "grid_template_areas": null,
            "grid_template_columns": null,
            "grid_template_rows": null,
            "height": null,
            "justify_content": null,
            "justify_items": null,
            "left": null,
            "margin": null,
            "max_height": null,
            "max_width": null,
            "min_height": null,
            "min_width": null,
            "object_fit": null,
            "object_position": null,
            "order": null,
            "overflow": null,
            "overflow_x": null,
            "overflow_y": null,
            "padding": null,
            "right": null,
            "top": null,
            "visibility": null,
            "width": null
          }
        },
        "5edf21c4c90b4a4a9b0c5eb92e6d736e": {
          "model_module": "@jupyter-widgets/controls",
          "model_name": "DescriptionStyleModel",
          "model_module_version": "1.5.0",
          "state": {
            "_model_module": "@jupyter-widgets/controls",
            "_model_module_version": "1.5.0",
            "_model_name": "DescriptionStyleModel",
            "_view_count": null,
            "_view_module": "@jupyter-widgets/base",
            "_view_module_version": "1.2.0",
            "_view_name": "StyleView",
            "description_width": ""
          }
        },
        "b371d91a983e4980b0827a94991118df": {
          "model_module": "@jupyter-widgets/base",
          "model_name": "LayoutModel",
          "model_module_version": "1.2.0",
          "state": {
            "_model_module": "@jupyter-widgets/base",
            "_model_module_version": "1.2.0",
            "_model_name": "LayoutModel",
            "_view_count": null,
            "_view_module": "@jupyter-widgets/base",
            "_view_module_version": "1.2.0",
            "_view_name": "LayoutView",
            "align_content": null,
            "align_items": null,
            "align_self": null,
            "border": null,
            "bottom": null,
            "display": null,
            "flex": null,
            "flex_flow": null,
            "grid_area": null,
            "grid_auto_columns": null,
            "grid_auto_flow": null,
            "grid_auto_rows": null,
            "grid_column": null,
            "grid_gap": null,
            "grid_row": null,
            "grid_template_areas": null,
            "grid_template_columns": null,
            "grid_template_rows": null,
            "height": null,
            "justify_content": null,
            "justify_items": null,
            "left": null,
            "margin": null,
            "max_height": null,
            "max_width": null,
            "min_height": null,
            "min_width": null,
            "object_fit": null,
            "object_position": null,
            "order": null,
            "overflow": null,
            "overflow_x": null,
            "overflow_y": null,
            "padding": null,
            "right": null,
            "top": null,
            "visibility": null,
            "width": null
          }
        },
        "4357c55ba47644e6962e6fa9a46dcd4a": {
          "model_module": "@jupyter-widgets/controls",
          "model_name": "ProgressStyleModel",
          "model_module_version": "1.5.0",
          "state": {
            "_model_module": "@jupyter-widgets/controls",
            "_model_module_version": "1.5.0",
            "_model_name": "ProgressStyleModel",
            "_view_count": null,
            "_view_module": "@jupyter-widgets/base",
            "_view_module_version": "1.2.0",
            "_view_name": "StyleView",
            "bar_color": null,
            "description_width": ""
          }
        },
        "a4b6ec005f2a47b0bcd353a34c5dcd0a": {
          "model_module": "@jupyter-widgets/base",
          "model_name": "LayoutModel",
          "model_module_version": "1.2.0",
          "state": {
            "_model_module": "@jupyter-widgets/base",
            "_model_module_version": "1.2.0",
            "_model_name": "LayoutModel",
            "_view_count": null,
            "_view_module": "@jupyter-widgets/base",
            "_view_module_version": "1.2.0",
            "_view_name": "LayoutView",
            "align_content": null,
            "align_items": null,
            "align_self": null,
            "border": null,
            "bottom": null,
            "display": null,
            "flex": null,
            "flex_flow": null,
            "grid_area": null,
            "grid_auto_columns": null,
            "grid_auto_flow": null,
            "grid_auto_rows": null,
            "grid_column": null,
            "grid_gap": null,
            "grid_row": null,
            "grid_template_areas": null,
            "grid_template_columns": null,
            "grid_template_rows": null,
            "height": null,
            "justify_content": null,
            "justify_items": null,
            "left": null,
            "margin": null,
            "max_height": null,
            "max_width": null,
            "min_height": null,
            "min_width": null,
            "object_fit": null,
            "object_position": null,
            "order": null,
            "overflow": null,
            "overflow_x": null,
            "overflow_y": null,
            "padding": null,
            "right": null,
            "top": null,
            "visibility": null,
            "width": null
          }
        },
        "ce8482eb22924390b19f18add44debb0": {
          "model_module": "@jupyter-widgets/controls",
          "model_name": "DescriptionStyleModel",
          "model_module_version": "1.5.0",
          "state": {
            "_model_module": "@jupyter-widgets/controls",
            "_model_module_version": "1.5.0",
            "_model_name": "DescriptionStyleModel",
            "_view_count": null,
            "_view_module": "@jupyter-widgets/base",
            "_view_module_version": "1.2.0",
            "_view_name": "StyleView",
            "description_width": ""
          }
        }
      }
    }
  },
  "cells": [
    {
      "cell_type": "markdown",
      "source": [
        "**code after reducing** -> punctuation, numbers,emojis, English words\n",
        "\n",
        "\n",
        "with stopwords"
      ],
      "metadata": {
        "id": "4VUhjcVa6EKA"
      }
    },
    {
      "cell_type": "code",
      "source": [
        "from google.colab import drive\n",
        "drive.mount('/content/drive')"
      ],
      "metadata": {
        "colab": {
          "base_uri": "https://localhost:8080/"
        },
        "id": "ORzIIO0Pggql",
        "outputId": "11b79375-831e-458e-92a5-d6f3d33d7c32"
      },
      "execution_count": 1,
      "outputs": [
        {
          "output_type": "stream",
          "name": "stdout",
          "text": [
            "Mounted at /content/drive\n"
          ]
        }
      ]
    },
    {
      "cell_type": "code",
      "source": [],
      "metadata": {
        "id": "uwHGWJIvLNP2"
      },
      "execution_count": null,
      "outputs": []
    },
    {
      "cell_type": "code",
      "source": [
        "import numpy as np\n",
        "import pandas as pd\n",
        "import pickle\n",
        "import matplotlib.pyplot as plt\n",
        "%matplotlib inline\n",
        "import seaborn as sns\n",
        "import re,json,nltk\n",
        "from sklearn.preprocessing import LabelEncoder\n",
        "from sklearn.feature_extraction.text import TfidfVectorizer\n",
        "from sklearn.feature_extraction.text import TfidfTransformer\n",
        "from sklearn.model_selection import train_test_split\n",
        "from sklearn.metrics import classification_report,accuracy_score,precision_score,recall_score,f1_score\n",
        "#stopwords_list ='stopwords-bn.txt'\n",
        "\n",
        "\n",
        "import re\n",
        "from google.colab import files\n",
        "import string"
      ],
      "metadata": {
        "id": "xUJi3OCScnzC"
      },
      "execution_count": 2,
      "outputs": []
    },
    {
      "cell_type": "code",
      "execution_count": 3,
      "metadata": {
        "id": "rpE_1eIMJiJ1"
      },
      "outputs": [],
      "source": [
        "import torch\n",
        "from transformers import BertTokenizer, BertModel\n",
        "from sklearn.preprocessing import LabelEncoder\n",
        "from tqdm import tqdm\n",
        "import pandas as pd"
      ]
    },
    {
      "cell_type": "code",
      "source": [
        "data = pd.read_excel('/content/drive/MyDrive/4.2_resources/softcom/data/final_tech_comment_dataset_with_annotation.xlsx')"
      ],
      "metadata": {
        "id": "lsWxktacd4gh"
      },
      "execution_count": 4,
      "outputs": []
    },
    {
      "cell_type": "code",
      "source": [
        "len(data)"
      ],
      "metadata": {
        "colab": {
          "base_uri": "https://localhost:8080/"
        },
        "id": "vj9Pcq91L_Zx",
        "outputId": "a72ce82c-556e-414a-d9bf-71290bbb8ceb"
      },
      "execution_count": 5,
      "outputs": [
        {
          "output_type": "execute_result",
          "data": {
            "text/plain": [
              "3037"
            ]
          },
          "metadata": {},
          "execution_count": 5
        }
      ]
    },
    {
      "cell_type": "code",
      "source": [
        "data['Sentiment'] = data['Person 3'].copy()"
      ],
      "metadata": {
        "id": "WIR8FL19MCZW"
      },
      "execution_count": 6,
      "outputs": []
    },
    {
      "cell_type": "code",
      "source": [
        "print(\"Total Reviews:\",len(data),\n",
        "      \"\\nTotal Positive Reviews:\",len(data[data.Sentiment == 1]),\n",
        "      \"\\nTotal Neutral Reviews:\",len(data[data.Sentiment == 2]),\n",
        "      \"\\nTotal Negative Reviews:\",len(data[data.Sentiment == 0]))"
      ],
      "metadata": {
        "colab": {
          "base_uri": "https://localhost:8080/"
        },
        "id": "QaPEEzMSLrbc",
        "outputId": "bf6b265f-d583-45a4-afbb-aac8083208e7"
      },
      "execution_count": 7,
      "outputs": [
        {
          "output_type": "stream",
          "name": "stdout",
          "text": [
            "Total Reviews: 3037 \n",
            "Total Positive Reviews: 2255 \n",
            "Total Neutral Reviews: 291 \n",
            "Total Negative Reviews: 491\n"
          ]
        }
      ]
    },
    {
      "cell_type": "code",
      "source": [
        "data.columns"
      ],
      "metadata": {
        "id": "cRJJUAeAeEz5",
        "colab": {
          "base_uri": "https://localhost:8080/"
        },
        "outputId": "cf6f22c9-4a7b-47ff-9c26-7c3aa58870bf"
      },
      "execution_count": 8,
      "outputs": [
        {
          "output_type": "execute_result",
          "data": {
            "text/plain": [
              "Index(['Bengali tech product reviews', 'tech product', 'Person 1', 'Person 2',\n",
              "       'Person 3', 'Sentiment'],\n",
              "      dtype='object')"
            ]
          },
          "metadata": {},
          "execution_count": 8
        }
      ]
    },
    {
      "cell_type": "code",
      "source": [
        "data.rename(columns={'Bengali tech product reviews': 'Comment'}, inplace=True)"
      ],
      "metadata": {
        "id": "VkTQ7pqfMc6O"
      },
      "execution_count": 9,
      "outputs": []
    },
    {
      "cell_type": "code",
      "source": [
        "# print some unprocessed reviews\n",
        "sample_data = [573, 1209, 864, 297, 1502, 639, 2085, 431, 775, 1926, 1098, 256, 1823, 904, 117, 1985, 623, 1490, 765, 2217]\n",
        "for i in sample_data:\n",
        "      print(data.Comment[i],'\\n','Sentiment:-- ',data.Sentiment[i],'\\n')"
      ],
      "metadata": {
        "id": "orb7yYmhfHZ4",
        "colab": {
          "base_uri": "https://localhost:8080/"
        },
        "outputId": "d320d998-554a-4c56-e7c1-6356befaba9e"
      },
      "execution_count": 10,
      "outputs": [
        {
          "output_type": "stream",
          "name": "stdout",
          "text": [
            "জিনিস টা ভাল বোতাম ফোনে খুব ভাল কাজ করে। \n",
            " Sentiment:--  1 \n",
            "\n",
            "আমার খুব পছন্দ হয়েছে। তবে দামটা একটু বেশি হয়ে গিয়েছে। এর আগে দেখে ছিলাম তখন ৮০০/- টাকা ছিল। দাম কম রাখলে আরো বেশি সেল হবে। ধন্যবাদ দারাজ ও সেলার ভাই কে। \n",
            " Sentiment:--  1 \n",
            "\n",
            "গতকালই ক্যাশ অন ডেলিভারিতে কিনলাম। পাওয়ার অন-অফ এবং ভলিউম বাটনে সমস্যা। বেশি জোরে এবং বেশি সময় ধরে চাপ দিয়ে অন-অফ করতে হয়। আমি ত্রুটিযুক্ত এই ব্লুটুথ নেকব্যান্ডের পরিবর্তে অন্য আরেকটি নেকব্যান্ড চাই। অন্যথায় বাকি জীবনে কখনই আর দারাজ থেকে কোন পন্য কিনবো না আর কাউকে কেনার কথা বলবোও না। \n",
            " Sentiment:--  0 \n",
            "\n",
            "প্যাকেজিংটা অনেক ভালো ছিল ধন্যবাদ \n",
            " Sentiment:--  1 \n",
            "\n",
            "একটা কিনে একটি ফ্রি পেয়েছি । মোবাইলের স্ট্যান্ড টা খুব দারুন ছিল এবং হেডফোনটা অনেক ভালো. আমার কাছে খুব দারুন লেগেছে আপনারা চাইলে নিতে পারেন বেশি দামি না কিনে এটা কিনে দেখতে পারেন অনেক ভালো হবে🌟💥❤ধন্যবাদ দারাজ এবং সেলার \n",
            " Sentiment:--  1 \n",
            "\n",
            "সাউন্ড পটপট শব্দ করে।রিটার্ন করে দিছি। \n",
            " Sentiment:--  0 \n",
            "\n",
            "আলহামদুলিল্লাহ যেমনি চেয়েছি তেমনি পেয়েছি,\n",
            "অনেক ভালো পণ হাতে পেয়েছি, \n",
            " Sentiment:--  1 \n",
            "\n",
            "আমি কখনও অবাস্তব অফারের পক্ষে নয়, অন্যান্য ই কমার্স এর উরাধুরা অফার কখনো গ্রহন করিনি, ডারাজের অফার আমার কাছে সামজস্যপূর্নক মনে হয়েছে ও তাদের ক্যাশ অন ডেলিভারী সিস্টেম ও সময় মত ডেলিভারি আমার কাছে খুব ভালো লেগেছে৷ আলহামদুলিল্লাহ খুবই ভালো,, সময় মত ডেলিভারি পেয়েছি, ক্যাশ অন এ নিয়েছিলাম \n",
            " Sentiment:--  1 \n",
            "\n",
            "লুল প্রডাক্ট \n",
            " Sentiment:--  0 \n",
            "\n",
            "awesome experience... seller delivered product within 3-days. really happy shopping. product authentic. till now no problem found. \n",
            " Sentiment:--  1 \n",
            "\n",
            "এক কথায় খুব ভালো একটা প্রোডাক্ট এবং অসাধারন যেকেউই আডার করতে পারেন পেকেজিং ভালো ছিলো। ধন্যবাদ দারাজ \n",
            " Sentiment:--  1 \n",
            "\n",
            "আমি প্রোডাক্টটি হাতে পেয়ে অনেক খুশি, মোবাইলের পারফরমেন্স ভালো পেয়েছি, দেখা যাক কতদিন ভালোভাবে ব্যবহার করতে পারি, ধন্যবাদ দারাজকে, কিন্তু রেডেক্সে নিয়োজিত কুরিয়ার সার্ভিসের কর্মিরা হোম ডেলিভারি দিতে চায়না, তাদের অফিস থেকে গিয়ে আনতে বলে, না আনতে পারলে প্রোডাক্ট রিটার্ন পাঠিয়ে দেয়। \n",
            " Sentiment:--  1 \n",
            "\n",
            "তিন মাস পর রিভইউ দিলাম মোটা মুটি অনক ভালো সবই নিতে পরন \n",
            " Sentiment:--  1 \n",
            "\n",
            "প্যাকেজিং খুবই ভালো এবং দ্রুততম ডেলিভারি। এ পর্যন্ত মনিটরের সবকিছু ঠিকঠাক পাইছি আলহামদুলিল্লাহ। এখন কিছুদিন ব্যবহার করে আরো বলতে পারব। ধন্যবাদ সংশ্লিষ্ট সবাইকে। \n",
            " Sentiment:--  1 \n",
            "\n",
            "অসাধারন হয়েছে। \n",
            " Sentiment:--  1 \n",
            "\n",
            "❤️ধন্যবাদ intimacy computer and solutions কে এতো সুন্দর একটা প্রডাক্ট ডেলিভারি করার জন্য এবং ডেলিভারি এবং প্যাকেজিং ছিলো অসাধারণ মেইন কথা হলো তাদের ব্যবহার অসাধারণ কোন অনলাইন স্টোর থেকে এতো সুন্দর ব্যবহার কল্পনাই করা যায় না যা এক মাত্র ওনাদের দ্বারাই সম্ভব।প্রডাক্ট টি অনেক দিন ব্যবহার করার পর রিভিউ দিচ্ছি আসলেই অনেক ভালো সার্ভিস দিচ্ছে।আর সেলারের ব্যবহার অসাধারণ অনেক ভদ্র সেলার।মেসেজ দেয়ার সাথে সাথে রেসপন্স করে যা প্রসংশার দাবিদার।গিফ্ট এর মাউস টা ১০০% অথেনটিক।এটাতে কোনো ফিঙ্গারপ্রিন্ট নেই। \n",
            " Sentiment:--  1 \n",
            "\n",
            "খুব ভালো ছিলো \n",
            " Sentiment:--  1 \n",
            "\n",
            "আলহামদুলিল্লাহ, অনেক ভালো হেডফোন ১৫ দিন ব্যবহার করার পর review দিলাম সেলার এর ব্যবহার অনেক ভালো। ধন্যবাদ সেলার কে এতো ভালো একটি হেডফোন দেওয়ার জন্য \n",
            " Sentiment:--  1 \n",
            "\n",
            "মোটামুটি ভালো \n",
            " Sentiment:--  1 \n",
            "\n",
            "this is very very awesome product my. দশ দিন ব্যবহার করেছি অনেক দারুন প্রোডাক্ট আপনারা যারা এটা কিনতে চান অবশ্যই কিনবেন ১০০% এটা ভালো বেস্ট প্রোডাক্ট ধন্যবাদ দার আজকে এটার সাথে আমি দুইটা ব্যাটারি ও পেয়েছি এটা আমি বাসায় উড়িয়েছি এবং অনেক স্টেবল এবং ভালোভাবে অনেক দারুনভাবে উঠেছে এই টাকায় এত ভালো ড্রোন পাওয়া যায় না ভুল করে অনেকবার আমার হাত থেকে পড়ে গেছে কিন্তু তবুও এটার কিছু হয়নি 100% by this product 😍😍😍😍😍😍😍😍😍😍😍😍🙏🤩🤩🥳🥳😍😍😍😍😍🥳🥳🥳🥳🥳😀😀😃😄😄😄😃😃 I am very very happy \n",
            " Sentiment:--  1 \n",
            "\n"
          ]
        }
      ]
    },
    {
      "cell_type": "code",
      "source": [
        "data.columns"
      ],
      "metadata": {
        "colab": {
          "base_uri": "https://localhost:8080/"
        },
        "id": "0PsByoXgMuye",
        "outputId": "d7a8dc3e-c6bd-4790-84a5-cacb99792e52"
      },
      "execution_count": 11,
      "outputs": [
        {
          "output_type": "execute_result",
          "data": {
            "text/plain": [
              "Index(['Comment', 'tech product', 'Person 1', 'Person 2', 'Person 3',\n",
              "       'Sentiment'],\n",
              "      dtype='object')"
            ]
          },
          "metadata": {},
          "execution_count": 11
        }
      ]
    },
    {
      "cell_type": "code",
      "source": [
        "import re\n",
        "import string\n",
        "\n",
        "def clean_text(text):\n",
        "    # Remove numbers\n",
        "    text = re.sub(r'\\d+', '', str(text))\n",
        "\n",
        "    # Remove all punctuation using string.punctuation\n",
        "    # review = re.sub('[^\\u0980-\\u09FF]',' ',str(review)) #removing unnecessary punctuation\n",
        "    text = re.sub('[^\\u0980-\\u09FF]',' ',str(text))  # Keeping Bengali characters and specified punctuation\n",
        "\n",
        "    # Remove English words\n",
        "    text = re.sub(r'[A-Za-z]+', '', str(text))\n",
        "\n",
        "    # Remove emojis\n",
        "    emoji_pattern = re.compile(\"[\"\n",
        "        u\"\\U0001F600-\\U0001F64F\"  # emoticons\n",
        "        u\"\\U0001F300-\\U0001F5FF\"  # symbols & pictographs\n",
        "        u\"\\U0001F680-\\U0001F6FF\"  # transport & map symbols\n",
        "        u\"\\U0001F1E0-\\U0001F1FF\"  # flags (iOS)\n",
        "        u\"\\U00002500-\\U00002BEF\"  # chinese char\n",
        "        u\"\\U00002702-\\U000027B0\"\n",
        "        u\"\\U000024C2-\\U0001F251\"\n",
        "        u\"\\U0001f926-\\U0001f937\"\n",
        "        u\"\\U00010000-\\U0010ffff\"\n",
        "        u\"\\u2640-\\u2642\"\n",
        "        u\"\\u2600-\\u2B55\"\n",
        "        u\"\\u200d\"\n",
        "        u\"\\u23cf\"\n",
        "        u\"\\u23e9\"\n",
        "        u\"\\u231a\"\n",
        "        u\"\\ufe0f\"  # dingbats\n",
        "        u\"\\u3030\"\n",
        "                      \"]+\", re.UNICODE)\n",
        "    text = emoji_pattern.sub(r'', str(text))\n",
        "\n",
        "    return text"
      ],
      "metadata": {
        "id": "avr0FtS5eI6Z"
      },
      "execution_count": 12,
      "outputs": []
    },
    {
      "cell_type": "code",
      "source": [
        "# Apply the function to the dataframe\n",
        "\n",
        "data['cleaned'] = data['Comment'].apply(clean_text)\n",
        "\n",
        "# Print some cleaned reviews from the dataset\n",
        "sample_data = [573, 1209, 864, 297, 1502, 639, 2085, 431, 775, 1926, 1098, 256, 1823, 904, 117, 1985, 623, 1490, 765, 2217]\n",
        "\n",
        "for i in sample_data:\n",
        "    print('Original:\\n', data.Comment[i], '\\nCleaned:\\n', data.cleaned[i], '\\n', 'Sentiment:-- ', data.Sentiment[i], '\\n')\n"
      ],
      "metadata": {
        "id": "mdhGVUpQeKpZ",
        "colab": {
          "base_uri": "https://localhost:8080/"
        },
        "outputId": "49c7ee0e-65f9-4308-d609-72458dabd1cb"
      },
      "execution_count": 13,
      "outputs": [
        {
          "output_type": "stream",
          "name": "stdout",
          "text": [
            "Original:\n",
            " জিনিস টা ভাল বোতাম ফোনে খুব ভাল কাজ করে। \n",
            "Cleaned:\n",
            " জিনিস টা ভাল বোতাম ফোনে খুব ভাল কাজ করে  \n",
            " Sentiment:--  1 \n",
            "\n",
            "Original:\n",
            " আমার খুব পছন্দ হয়েছে। তবে দামটা একটু বেশি হয়ে গিয়েছে। এর আগে দেখে ছিলাম তখন ৮০০/- টাকা ছিল। দাম কম রাখলে আরো বেশি সেল হবে। ধন্যবাদ দারাজ ও সেলার ভাই কে। \n",
            "Cleaned:\n",
            " আমার খুব পছন্দ হয়েছে  তবে দামটা একটু বেশি হয়ে গিয়েছে  এর আগে দেখে ছিলাম তখন    টাকা ছিল  দাম কম রাখলে আরো বেশি সেল হবে  ধন্যবাদ দারাজ ও সেলার ভাই কে  \n",
            " Sentiment:--  1 \n",
            "\n",
            "Original:\n",
            " গতকালই ক্যাশ অন ডেলিভারিতে কিনলাম। পাওয়ার অন-অফ এবং ভলিউম বাটনে সমস্যা। বেশি জোরে এবং বেশি সময় ধরে চাপ দিয়ে অন-অফ করতে হয়। আমি ত্রুটিযুক্ত এই ব্লুটুথ নেকব্যান্ডের পরিবর্তে অন্য আরেকটি নেকব্যান্ড চাই। অন্যথায় বাকি জীবনে কখনই আর দারাজ থেকে কোন পন্য কিনবো না আর কাউকে কেনার কথা বলবোও না। \n",
            "Cleaned:\n",
            " গতকালই ক্যাশ অন ডেলিভারিতে কিনলাম  পাওয়ার অন অফ এবং ভলিউম বাটনে সমস্যা  বেশি জোরে এবং বেশি সময় ধরে চাপ দিয়ে অন অফ করতে হয়  আমি ত্রুটিযুক্ত এই ব্লুটুথ নেকব্যান্ডের পরিবর্তে অন্য আরেকটি নেকব্যান্ড চাই  অন্যথায় বাকি জীবনে কখনই আর দারাজ থেকে কোন পন্য কিনবো না আর কাউকে কেনার কথা বলবোও না  \n",
            " Sentiment:--  0 \n",
            "\n",
            "Original:\n",
            " প্যাকেজিংটা অনেক ভালো ছিল ধন্যবাদ \n",
            "Cleaned:\n",
            " প্যাকেজিংটা অনেক ভালো ছিল ধন্যবাদ \n",
            " Sentiment:--  1 \n",
            "\n",
            "Original:\n",
            " একটা কিনে একটি ফ্রি পেয়েছি । মোবাইলের স্ট্যান্ড টা খুব দারুন ছিল এবং হেডফোনটা অনেক ভালো. আমার কাছে খুব দারুন লেগেছে আপনারা চাইলে নিতে পারেন বেশি দামি না কিনে এটা কিনে দেখতে পারেন অনেক ভালো হবে🌟💥❤ধন্যবাদ দারাজ এবং সেলার \n",
            "Cleaned:\n",
            " একটা কিনে একটি ফ্রি পেয়েছি   মোবাইলের স্ট্যান্ড টা খুব দারুন ছিল এবং হেডফোনটা অনেক ভালো  আমার কাছে খুব দারুন লেগেছে আপনারা চাইলে নিতে পারেন বেশি দামি না কিনে এটা কিনে দেখতে পারেন অনেক ভালো হবে   ধন্যবাদ দারাজ এবং সেলার \n",
            " Sentiment:--  1 \n",
            "\n",
            "Original:\n",
            " সাউন্ড পটপট শব্দ করে।রিটার্ন করে দিছি। \n",
            "Cleaned:\n",
            " সাউন্ড পটপট শব্দ করে রিটার্ন করে দিছি  \n",
            " Sentiment:--  0 \n",
            "\n",
            "Original:\n",
            " আলহামদুলিল্লাহ যেমনি চেয়েছি তেমনি পেয়েছি,\n",
            "অনেক ভালো পণ হাতে পেয়েছি, \n",
            "Cleaned:\n",
            " আলহামদুলিল্লাহ যেমনি চেয়েছি তেমনি পেয়েছি  অনেক ভালো পণ হাতে পেয়েছি  \n",
            " Sentiment:--  1 \n",
            "\n",
            "Original:\n",
            " আমি কখনও অবাস্তব অফারের পক্ষে নয়, অন্যান্য ই কমার্স এর উরাধুরা অফার কখনো গ্রহন করিনি, ডারাজের অফার আমার কাছে সামজস্যপূর্নক মনে হয়েছে ও তাদের ক্যাশ অন ডেলিভারী সিস্টেম ও সময় মত ডেলিভারি আমার কাছে খুব ভালো লেগেছে৷ আলহামদুলিল্লাহ খুবই ভালো,, সময় মত ডেলিভারি পেয়েছি, ক্যাশ অন এ নিয়েছিলাম \n",
            "Cleaned:\n",
            " আমি কখনও অবাস্তব অফারের পক্ষে নয়  অন্যান্য ই কমার্স এর উরাধুরা অফার কখনো গ্রহন করিনি  ডারাজের অফার আমার কাছে সামজস্যপূর্নক মনে হয়েছে ও তাদের ক্যাশ অন ডেলিভারী সিস্টেম ও সময় মত ডেলিভারি আমার কাছে খুব ভালো লেগেছে৷ আলহামদুলিল্লাহ খুবই ভালো   সময় মত ডেলিভারি পেয়েছি  ক্যাশ অন এ নিয়েছিলাম \n",
            " Sentiment:--  1 \n",
            "\n",
            "Original:\n",
            " লুল প্রডাক্ট \n",
            "Cleaned:\n",
            " লুল প্রডাক্ট \n",
            " Sentiment:--  0 \n",
            "\n",
            "Original:\n",
            " awesome experience... seller delivered product within 3-days. really happy shopping. product authentic. till now no problem found. \n",
            "Cleaned:\n",
            "                                                                                                                                   \n",
            " Sentiment:--  1 \n",
            "\n",
            "Original:\n",
            " এক কথায় খুব ভালো একটা প্রোডাক্ট এবং অসাধারন যেকেউই আডার করতে পারেন পেকেজিং ভালো ছিলো। ধন্যবাদ দারাজ \n",
            "Cleaned:\n",
            " এক কথায় খুব ভালো একটা প্রোডাক্ট এবং অসাধারন যেকেউই আডার করতে পারেন পেকেজিং ভালো ছিলো  ধন্যবাদ দারাজ \n",
            " Sentiment:--  1 \n",
            "\n",
            "Original:\n",
            " আমি প্রোডাক্টটি হাতে পেয়ে অনেক খুশি, মোবাইলের পারফরমেন্স ভালো পেয়েছি, দেখা যাক কতদিন ভালোভাবে ব্যবহার করতে পারি, ধন্যবাদ দারাজকে, কিন্তু রেডেক্সে নিয়োজিত কুরিয়ার সার্ভিসের কর্মিরা হোম ডেলিভারি দিতে চায়না, তাদের অফিস থেকে গিয়ে আনতে বলে, না আনতে পারলে প্রোডাক্ট রিটার্ন পাঠিয়ে দেয়। \n",
            "Cleaned:\n",
            " আমি প্রোডাক্টটি হাতে পেয়ে অনেক খুশি  মোবাইলের পারফরমেন্স ভালো পেয়েছি  দেখা যাক কতদিন ভালোভাবে ব্যবহার করতে পারি  ধন্যবাদ দারাজকে  কিন্তু রেডেক্সে নিয়োজিত কুরিয়ার সার্ভিসের কর্মিরা হোম ডেলিভারি দিতে চায়না  তাদের অফিস থেকে গিয়ে আনতে বলে  না আনতে পারলে প্রোডাক্ট রিটার্ন পাঠিয়ে দেয়  \n",
            " Sentiment:--  1 \n",
            "\n",
            "Original:\n",
            " তিন মাস পর রিভইউ দিলাম মোটা মুটি অনক ভালো সবই নিতে পরন \n",
            "Cleaned:\n",
            " তিন মাস পর রিভইউ দিলাম মোটা মুটি অনক ভালো সবই নিতে পরন \n",
            " Sentiment:--  1 \n",
            "\n",
            "Original:\n",
            " প্যাকেজিং খুবই ভালো এবং দ্রুততম ডেলিভারি। এ পর্যন্ত মনিটরের সবকিছু ঠিকঠাক পাইছি আলহামদুলিল্লাহ। এখন কিছুদিন ব্যবহার করে আরো বলতে পারব। ধন্যবাদ সংশ্লিষ্ট সবাইকে। \n",
            "Cleaned:\n",
            " প্যাকেজিং খুবই ভালো এবং দ্রুততম ডেলিভারি  এ পর্যন্ত মনিটরের সবকিছু ঠিকঠাক পাইছি আলহামদুলিল্লাহ  এখন কিছুদিন ব্যবহার করে আরো বলতে পারব  ধন্যবাদ সংশ্লিষ্ট সবাইকে  \n",
            " Sentiment:--  1 \n",
            "\n",
            "Original:\n",
            " অসাধারন হয়েছে। \n",
            "Cleaned:\n",
            " অসাধারন হয়েছে  \n",
            " Sentiment:--  1 \n",
            "\n",
            "Original:\n",
            " ❤️ধন্যবাদ intimacy computer and solutions কে এতো সুন্দর একটা প্রডাক্ট ডেলিভারি করার জন্য এবং ডেলিভারি এবং প্যাকেজিং ছিলো অসাধারণ মেইন কথা হলো তাদের ব্যবহার অসাধারণ কোন অনলাইন স্টোর থেকে এতো সুন্দর ব্যবহার কল্পনাই করা যায় না যা এক মাত্র ওনাদের দ্বারাই সম্ভব।প্রডাক্ট টি অনেক দিন ব্যবহার করার পর রিভিউ দিচ্ছি আসলেই অনেক ভালো সার্ভিস দিচ্ছে।আর সেলারের ব্যবহার অসাধারণ অনেক ভদ্র সেলার।মেসেজ দেয়ার সাথে সাথে রেসপন্স করে যা প্রসংশার দাবিদার।গিফ্ট এর মাউস টা ১০০% অথেনটিক।এটাতে কোনো ফিঙ্গারপ্রিন্ট নেই। \n",
            "Cleaned:\n",
            "   ধন্যবাদ                                 কে এতো সুন্দর একটা প্রডাক্ট ডেলিভারি করার জন্য এবং ডেলিভারি এবং প্যাকেজিং ছিলো অসাধারণ মেইন কথা হলো তাদের ব্যবহার অসাধারণ কোন অনলাইন স্টোর থেকে এতো সুন্দর ব্যবহার কল্পনাই করা যায় না যা এক মাত্র ওনাদের দ্বারাই সম্ভব প্রডাক্ট টি অনেক দিন ব্যবহার করার পর রিভিউ দিচ্ছি আসলেই অনেক ভালো সার্ভিস দিচ্ছে আর সেলারের ব্যবহার অসাধারণ অনেক ভদ্র সেলার মেসেজ দেয়ার সাথে সাথে রেসপন্স করে যা প্রসংশার দাবিদার গিফ্ট এর মাউস টা   অথেনটিক এটাতে কোনো ফিঙ্গারপ্রিন্ট নেই  \n",
            " Sentiment:--  1 \n",
            "\n",
            "Original:\n",
            " খুব ভালো ছিলো \n",
            "Cleaned:\n",
            " খুব ভালো ছিলো \n",
            " Sentiment:--  1 \n",
            "\n",
            "Original:\n",
            " আলহামদুলিল্লাহ, অনেক ভালো হেডফোন ১৫ দিন ব্যবহার করার পর review দিলাম সেলার এর ব্যবহার অনেক ভালো। ধন্যবাদ সেলার কে এতো ভালো একটি হেডফোন দেওয়ার জন্য \n",
            "Cleaned:\n",
            " আলহামদুলিল্লাহ  অনেক ভালো হেডফোন  দিন ব্যবহার করার পর        দিলাম সেলার এর ব্যবহার অনেক ভালো  ধন্যবাদ সেলার কে এতো ভালো একটি হেডফোন দেওয়ার জন্য \n",
            " Sentiment:--  1 \n",
            "\n",
            "Original:\n",
            " মোটামুটি ভালো \n",
            "Cleaned:\n",
            " মোটামুটি ভালো \n",
            " Sentiment:--  1 \n",
            "\n",
            "Original:\n",
            " this is very very awesome product my. দশ দিন ব্যবহার করেছি অনেক দারুন প্রোডাক্ট আপনারা যারা এটা কিনতে চান অবশ্যই কিনবেন ১০০% এটা ভালো বেস্ট প্রোডাক্ট ধন্যবাদ দার আজকে এটার সাথে আমি দুইটা ব্যাটারি ও পেয়েছি এটা আমি বাসায় উড়িয়েছি এবং অনেক স্টেবল এবং ভালোভাবে অনেক দারুনভাবে উঠেছে এই টাকায় এত ভালো ড্রোন পাওয়া যায় না ভুল করে অনেকবার আমার হাত থেকে পড়ে গেছে কিন্তু তবুও এটার কিছু হয়নি 100% by this product 😍😍😍😍😍😍😍😍😍😍😍😍🙏🤩🤩🥳🥳😍😍😍😍😍🥳🥳🥳🥳🥳😀😀😃😄😄😄😃😃 I am very very happy \n",
            "Cleaned:\n",
            "                                       দশ দিন ব্যবহার করেছি অনেক দারুন প্রোডাক্ট আপনারা যারা এটা কিনতে চান অবশ্যই কিনবেন   এটা ভালো বেস্ট প্রোডাক্ট ধন্যবাদ দার আজকে এটার সাথে আমি দুইটা ব্যাটারি ও পেয়েছি এটা আমি বাসায় উড়িয়েছি এবং অনেক স্টেবল এবং ভালোভাবে অনেক দারুনভাবে উঠেছে এই টাকায় এত ভালো ড্রোন পাওয়া যায় না ভুল করে অনেকবার আমার হাত থেকে পড়ে গেছে কিন্তু তবুও এটার কিছু হয়নি                                                                            \n",
            " Sentiment:--  1 \n",
            "\n"
          ]
        }
      ]
    },
    {
      "cell_type": "code",
      "source": [
        "# keeping the stop words"
      ],
      "metadata": {
        "id": "tvNyeBm1eGfx"
      },
      "execution_count": null,
      "outputs": []
    },
    {
      "cell_type": "code",
      "source": [
        "print(stop_words)"
      ],
      "metadata": {
        "colab": {
          "base_uri": "https://localhost:8080/"
        },
        "id": "wW4269aaoIv3",
        "outputId": "a96d7445-445c-40db-db38-4b4535efd282"
      },
      "execution_count": null,
      "outputs": [
        {
          "output_type": "stream",
          "name": "stdout",
          "text": [
            "{'কিংবা', 'প্রভৃতি', 'হল', 'কোনো', 'শুরু', 'তাকে', 'করা', 'আপনার', 'হইতে', 'আপনি', 'এটি', 'হোক', 'করাই', 'কোটি', 'বদলে', 'বলল', 'শুধু', 'আমাদের', 'হতে', 'সঙ্গেও', 'হয়েছিল', 'জানিয়ে', 'ভাবেই', 'যাকে', 'যাওয়া', 'হলে', 'হৈলে', 'আমি', 'দেখা', 'ইহা', 'তেমন', 'নাকি', 'জনের', 'অনেক', 'তাঁদের', 'উত্তর', 'খুব', 'সি', 'হবেন', 'জন্য', 'থাকায়', 'পরেও', 'ভাবে', 'নিতে', 'কি', 'চায়', 'পেয়্র্', 'জানানো', 'সহিত', 'চেষ্টা', 'থাকবে', 'তিনি', 'এখন', 'ছাড়াও', 'ধামার', 'প্রথম', 'বন', 'একটি', 'সেটা', 'যাতে', 'বলা', 'সেটাও', 'না', 'করেছিলেন', 'দেওয়া', 'কিছুই', 'আদ্যভাগে', 'আমার', 'দিতে', 'গেলে', 'বললেন', 'এল', 'তাতে', 'যাওয়ার', 'হন', 'আগে', 'সহ', 'একই', 'নিজেই', 'বলতে', 'বরং', 'ধরে', 'দু', 'যারা', 'জন', 'দেখে', 'করি', 'পরে', 'যেখানে', 'এই', 'তাই', 'পারে', 'কী', 'নিয়ে', 'গুলি', 'অথবা', 'সব', 'কেখা', 'নয়', 'সেটি', 'অর্থাত', 'করে', 'নিজের', 'এমনি', 'তাও', 'যেমন', 'তাঁর', 'নয়', 'র', 'পেয়ে', 'ফের', 'কাজ', 'কখনও', 'প্রাথমিক', 'হয়ে', 'অথচ', 'এদের', 'ব্যবহার', 'কিন্তু', 'ওঁর', 'হওয়া', 'তবু', 'আর', 'ইত্যাদি', 'সেটাই', 'বহু', 'তাহা', 'বক্তব্য', 'নিজে', 'হবে', 'দিয়েছেন', 'তাঁকে', 'তাঁাহারা', 'ই', 'ওঁরা', 'কাউকে', 'তথা', 'মোট', 'হইয়া', 'মতোই', 'যখন', 'এব', 'চার', 'এবং', 'ওই', 'আমাকে', 'যদিও', 'হয়েছে', 'দিলেন', 'ওরা', 'দুটি', 'তার', 'দ্বারা', 'তা', 'যার', 'পারি', 'ফলে', 'বা', 'এখানে', 'কমনে', 'তাহাতে', 'করিতে', 'তিনঐ', 'দেয়', 'থেকে', 'বলে', 'আমরা', 'উপরে', 'এত', 'আগামী', 'সামনে', 'হইবে', 'হয়নি', 'এক্', 'জ্নজন', 'যাঁরা', 'অনেকেই', 'অবশ্য', 'করলেন', 'করেছেন', 'করেন', 'জে', 'কিছু', 'সেই', 'একবার', 'দিয়ে', 'যাওয়া', 'তাদের', 'পারেন', 'থাকে', 'বার', 'আরও', 'করছেন', 'বেশি', 'হয়েছেন', 'এস', 'আবার', 'তারা', 'ছাড়া', 'কয়েক', 'গিয়েছে', 'কেউই', 'করেই', 'তোমার', 'যেতে', 'পি', 'অতএব', 'এবার', 'নানা', 'মাধ্যমে', 'নিয়ে', 'হয়েই', 'এঁদের', 'বিশেষ', 'যাঁর', 'এখানেই', 'কাজে', 'ও', 'পর্যন্ত', 'স্বয়ং', 'এঁরা', 'যাবে', 'মাত্র', 'করিয়া', 'এখনও', 'মধ্যভাগে', 'এটাই', 'সেখান', 'জানায়', 'কেন', 'এর', 'করবেন', 'ওদের', 'গোটা', 'হওয়ায়', 'তত', 'ঠিক', 'হয়তো', 'দিন', 'আগেই', 'করলে', 'দিকে', 'গেল', 'তখন', 'থাকা', 'রাখা', 'বলেন', 'যথেষ্ট', 'বসে', 'চান', 'এমন', 'পাচ', 'তারপর', 'পক্ষে', 'যতটা', 'হচ্ছে', 'তারৈ', 'করিয়ে', 'করছে', 'নেওয়া', 'স্পষ্ট', 'সে', 'এটা', 'তবে', 'নেওয়ার', 'এসে', 'বিভিন্ন', 'হলো', 'হলেও', 'আই', 'যদি', 'সুতরাং', 'বিষয়টি', 'ঐ', 'তুমি', 'কোনও', 'পরেই', 'নাই', 'দুটো', 'তাহলে', 'জানা', 'অন্তত', 'উপর', 'এতটাই', 'জানিয়েছে', 'জন্যওজে', 'কাছ', 'এরা', 'ওঁদের', 'হতেই', 'বলেছেন', 'পর', 'মধ্যেই', 'হওয়ার', 'কয়েক', 'হয়', 'বাদে', 'যত', 'হিসাবে', 'লক্ষ', 'এ', 'চালু', 'তুলে', 'দিয়েছে', 'ছিল', 'পাওয়া', 'যায়', 'থেকেও', 'ওখানে', 'উচিত', 'যে', 'হাজার', 'থাকবেন', 'ছিলেন', 'যা', 'ওর', 'কারও', 'সঙ্গে', 'অবধি', 'কবে', 'কাছে', 'ব্যাপারে', 'জানতে', 'প্রযন্ত', 'এমনকী', 'করেছে', 'প্রায়', 'চলে', 'করায়', 'কারণ', 'গিয়ে', 'অনুযায়ী', 'মতো', 'সবার', 'করবে', 'মধ্যে', 'বেশ', 'যেন', 'সম্প্রতি', 'যাচ্ছে', 'দেওয়া', 'আজ', 'তিনিও', 'একে', 'যান', 'নিজেদের', 'হলেই', 'ফিরে', 'নেই', 'রয়েছে', 'নেওয়া', 'গিয়ে', 'বিনা', 'যাদের', 'মধ্যেও', 'সমস্ত', 'দেওয়ার', 'থাকেন', 'রেখে', 'চেয়ে', 'করার', 'হয়', 'ধরা', 'নাগাদ', 'তাহার', 'তো', 'উনি', 'বি', 'রকম', 'এতে', 'মনে', 'অনেকে', 'যিনি', 'দেন', 'কত', 'সেখানে', 'আছে', 'জনকে', 'প্রতি', 'ওকে', 'হত', 'টি', 'তাঁরা', 'দুই', 'কয়েকটি', 'প্রায়', 'করতে', 'কোন', 'অন্য', 'নতুন', 'থেকেই', 'ক্ষেত্রে', 'কে', 'মোটেই', 'গেছে', 'সাধারণ', 'দেখতে', 'কেউ'}\n"
          ]
        }
      ]
    },
    {
      "cell_type": "code",
      "source": [
        "data.columns"
      ],
      "metadata": {
        "id": "OZR8rEe9ovs-",
        "colab": {
          "base_uri": "https://localhost:8080/"
        },
        "outputId": "b709d716-2ca6-407e-97c6-2f98b82c5b4f"
      },
      "execution_count": 14,
      "outputs": [
        {
          "output_type": "execute_result",
          "data": {
            "text/plain": [
              "Index(['Comment', 'tech product', 'Person 1', 'Person 2', 'Person 3',\n",
              "       'Sentiment', 'cleaned'],\n",
              "      dtype='object')"
            ]
          },
          "metadata": {},
          "execution_count": 14
        }
      ]
    },
    {
      "cell_type": "code",
      "source": [
        "pip install transformers"
      ],
      "metadata": {
        "id": "JbqBijcxug6f",
        "colab": {
          "base_uri": "https://localhost:8080/"
        },
        "outputId": "260157d6-ed35-4c41-b1d4-66a341439ab5"
      },
      "execution_count": 15,
      "outputs": [
        {
          "output_type": "stream",
          "name": "stdout",
          "text": [
            "Requirement already satisfied: transformers in /usr/local/lib/python3.10/dist-packages (4.35.2)\n",
            "Requirement already satisfied: filelock in /usr/local/lib/python3.10/dist-packages (from transformers) (3.13.1)\n",
            "Requirement already satisfied: huggingface-hub<1.0,>=0.16.4 in /usr/local/lib/python3.10/dist-packages (from transformers) (0.20.3)\n",
            "Requirement already satisfied: numpy>=1.17 in /usr/local/lib/python3.10/dist-packages (from transformers) (1.23.5)\n",
            "Requirement already satisfied: packaging>=20.0 in /usr/local/lib/python3.10/dist-packages (from transformers) (23.2)\n",
            "Requirement already satisfied: pyyaml>=5.1 in /usr/local/lib/python3.10/dist-packages (from transformers) (6.0.1)\n",
            "Requirement already satisfied: regex!=2019.12.17 in /usr/local/lib/python3.10/dist-packages (from transformers) (2023.6.3)\n",
            "Requirement already satisfied: requests in /usr/local/lib/python3.10/dist-packages (from transformers) (2.31.0)\n",
            "Requirement already satisfied: tokenizers<0.19,>=0.14 in /usr/local/lib/python3.10/dist-packages (from transformers) (0.15.1)\n",
            "Requirement already satisfied: safetensors>=0.3.1 in /usr/local/lib/python3.10/dist-packages (from transformers) (0.4.1)\n",
            "Requirement already satisfied: tqdm>=4.27 in /usr/local/lib/python3.10/dist-packages (from transformers) (4.66.1)\n",
            "Requirement already satisfied: fsspec>=2023.5.0 in /usr/local/lib/python3.10/dist-packages (from huggingface-hub<1.0,>=0.16.4->transformers) (2023.6.0)\n",
            "Requirement already satisfied: typing-extensions>=3.7.4.3 in /usr/local/lib/python3.10/dist-packages (from huggingface-hub<1.0,>=0.16.4->transformers) (4.5.0)\n",
            "Requirement already satisfied: charset-normalizer<4,>=2 in /usr/local/lib/python3.10/dist-packages (from requests->transformers) (3.3.2)\n",
            "Requirement already satisfied: idna<4,>=2.5 in /usr/local/lib/python3.10/dist-packages (from requests->transformers) (3.6)\n",
            "Requirement already satisfied: urllib3<3,>=1.21.1 in /usr/local/lib/python3.10/dist-packages (from requests->transformers) (2.0.7)\n",
            "Requirement already satisfied: certifi>=2017.4.17 in /usr/local/lib/python3.10/dist-packages (from requests->transformers) (2023.11.17)\n"
          ]
        }
      ]
    },
    {
      "cell_type": "code",
      "source": [
        "import pandas as pd\n",
        "\n",
        "# Assuming 'data' is your DataFrame\n",
        "selected_columns = ['cleaned', 'Sentiment']\n",
        "selected_data = data[selected_columns]\n",
        "\n",
        "# Save the selected columns to a CSV file\n",
        "selected_data.to_csv('/content/drive/MyDrive/4.2_resources/softcom/data/project_selected_dataC.csv', index=False)"
      ],
      "metadata": {
        "id": "ZfLrJryVYA1I"
      },
      "execution_count": 16,
      "outputs": []
    },
    {
      "cell_type": "code",
      "source": [
        "cleaned_data = pd.read_csv('/content/drive/MyDrive/4.2_resources/softcom/data/project_selected_dataC.csv')"
      ],
      "metadata": {
        "id": "rFFXNHcpYd84"
      },
      "execution_count": 17,
      "outputs": []
    },
    {
      "cell_type": "code",
      "source": [
        "print(cleaned_data.columns)\n",
        "print(\"Total Reviews:\",len(cleaned_data))"
      ],
      "metadata": {
        "id": "BWYonhaeY0cQ",
        "colab": {
          "base_uri": "https://localhost:8080/"
        },
        "outputId": "dc1d012c-3fc9-46d9-e8f4-cc53c4ebf2fd"
      },
      "execution_count": 18,
      "outputs": [
        {
          "output_type": "stream",
          "name": "stdout",
          "text": [
            "Index(['cleaned', 'Sentiment'], dtype='object')\n",
            "Total Reviews: 3037\n"
          ]
        }
      ]
    },
    {
      "cell_type": "code",
      "source": [
        "cleaned_data.columns"
      ],
      "metadata": {
        "id": "Egi-9n0mct9A",
        "colab": {
          "base_uri": "https://localhost:8080/"
        },
        "outputId": "d2bb787c-ddd8-41a4-db49-61942ef7b812"
      },
      "execution_count": 19,
      "outputs": [
        {
          "output_type": "execute_result",
          "data": {
            "text/plain": [
              "Index(['cleaned', 'Sentiment'], dtype='object')"
            ]
          },
          "metadata": {},
          "execution_count": 19
        }
      ]
    },
    {
      "cell_type": "code",
      "source": [
        "import pandas as pd\n",
        "from transformers import BertTokenizer, BertModel\n",
        "import torch\n",
        "\n",
        "X = cleaned_data['cleaned'].astype(str)  # Convert to string to handle potential non-string values\n",
        "y = cleaned_data['Sentiment']\n",
        "\n",
        "tokenizer = BertTokenizer.from_pretrained('bert-base-cased')\n",
        "model = BertModel.from_pretrained('bert-base-cased')\n",
        "\n",
        "batch_size = 4\n",
        "tokenized_data = []\n",
        "\n",
        "null_values = X[X.isnull()]\n",
        "if not null_values.empty:\n",
        "    print(\"Warning: There are null values in 'cleaned_stopwords' column. Handle accordingly.\")\n",
        "\n",
        "for i in range(0, len(X), batch_size):\n",
        "    batch_texts = X.iloc[i:i+batch_size].tolist()\n",
        "    batch_encoding = tokenizer.batch_encode_plus(\n",
        "        batch_texts,\n",
        "        add_special_tokens=True,\n",
        "        padding='max_length',\n",
        "        truncation=True,\n",
        "        max_length=62,\n",
        "        return_tensors='pt'\n",
        "    )\n",
        "    tokenized_data.append(batch_encoding)\n",
        "\n",
        "input_ids = torch.cat([d['input_ids'] for d in tokenized_data], dim=0)\n",
        "attention_mask = torch.cat([d['attention_mask'] for d in tokenized_data], dim=0)\n",
        "\n",
        "with torch.no_grad():\n",
        "    model.eval()\n",
        "    outputs = model(input_ids, attention_mask=attention_mask)\n",
        "\n",
        "bert_embeddings = outputs.last_hidden_state[:, 0, :]"
      ],
      "metadata": {
        "id": "1PnHSVRE3S0a",
        "colab": {
          "base_uri": "https://localhost:8080/",
          "height": 281,
          "referenced_widgets": [
            "5580ddc63f24408490b0c5269d7463a4",
            "01f5da6a4c3c4e47857cf52244c30635",
            "8ea1d27b486e408eaa6c84b5d4c17f10",
            "5a5e16c9e0714d12aed5fa2fa98bc63f",
            "e9ebf7c6b95c40179c769be9af0fce87",
            "3d82892b4c244d5386fe32ab42d4531b",
            "3a7250ee8176408fb43c9310ab964517",
            "435603dc232f45158d211bae7d9c0030",
            "f871ae4561db4434b681b527c91b13f6",
            "4e53ecffc98f4f199d68cc3a10372a7a",
            "6b80e99c3b024a06b503a8045daea813",
            "b7f69af312494a68927c6fd45b6d05a2",
            "b7257df22b58492891ac2d611d94b09c",
            "b53d91f1cf1c4e01892707f6094b02e4",
            "106700b5496b4fca92695a48dd3a9d28",
            "351d3bb04fba43fdbc91f35dd67b0bbc",
            "21d5a3040e0744719dc57c8fb15b220a",
            "5e4918bfb7184b4489c0d016ee50232f",
            "bf84c1a02f4542afa3b4e8da7ac09b09",
            "efeea377f2b84c4ab6c4da244a17c23e",
            "f7d0780444b8480ca49b018d41194c1a",
            "a3129d9e2ad24521927a718114e84d30",
            "b6f1ec554aac459d98bc5202e5f24fc0",
            "3458a80fcb814fed8a1d65f1a1ff876f",
            "6be6290a4d7a4d98ba411b1e2f1e04e2",
            "841bff5875c24ee8a4871e0e7943e4ac",
            "e6575abe66b646f5a87ca24f92105a8d",
            "2ba13f3ea5d6456380622b955ff30ecb",
            "e8d63130934b473cb179eeca9dd1cf01",
            "f7eb4819e0da48c0a6040d3c1e58a149",
            "4d540796fadb49c5b738487081e9d2b2",
            "fefb5a588c8d4a2f907156d327fb3924",
            "76d8b83300cf409cacc2b2385bdce0c2",
            "fca29a6517d44287aefc5daf9bb67f90",
            "e0be4a1123aa453fa9fbb9821b12a6cf",
            "a5470a205be147968daa92f2ca82d65a",
            "d129f3dbe2644b2a91bed0bb9220e210",
            "39e90595dbee4cd4a3f974b6e3f9e627",
            "40d05baf01b1489d9776526269e4a7b4",
            "a8c66bffa4b34871a54ceb9966c2dfe4",
            "f6f3ac24fe4c4f268d5279cc5a36d3ea",
            "8978b839159e45a9ac2035c548ea48f0",
            "4217d852da784a2e9c83a1f824f8a3db",
            "d684a5ff92c244f7b71223ca6ceaf13e",
            "cc69150514f9405aa8da9096b4523171",
            "47549fd068da4ff18f965c0630d27dae",
            "fa67f42b16a8409d80defff8189f0f29",
            "744a50c29e994887949ccd5b34f694e0",
            "32ab0652ebfc4300ba1830d72b7aff4a",
            "2ffcafd79a5c49c09fe9a3caaba633ae",
            "5edf21c4c90b4a4a9b0c5eb92e6d736e",
            "b371d91a983e4980b0827a94991118df",
            "4357c55ba47644e6962e6fa9a46dcd4a",
            "a4b6ec005f2a47b0bcd353a34c5dcd0a",
            "ce8482eb22924390b19f18add44debb0"
          ]
        },
        "outputId": "0c74f434-c21d-4cab-f323-14cf8c7b8a09"
      },
      "execution_count": 20,
      "outputs": [
        {
          "output_type": "stream",
          "name": "stderr",
          "text": [
            "/usr/local/lib/python3.10/dist-packages/huggingface_hub/utils/_token.py:88: UserWarning: \n",
            "The secret `HF_TOKEN` does not exist in your Colab secrets.\n",
            "To authenticate with the Hugging Face Hub, create a token in your settings tab (https://huggingface.co/settings/tokens), set it as secret in your Google Colab and restart your session.\n",
            "You will be able to reuse this secret in all of your notebooks.\n",
            "Please note that authentication is recommended but still optional to access public models or datasets.\n",
            "  warnings.warn(\n"
          ]
        },
        {
          "output_type": "display_data",
          "data": {
            "text/plain": [
              "tokenizer_config.json:   0%|          | 0.00/29.0 [00:00<?, ?B/s]"
            ],
            "application/vnd.jupyter.widget-view+json": {
              "version_major": 2,
              "version_minor": 0,
              "model_id": "5580ddc63f24408490b0c5269d7463a4"
            }
          },
          "metadata": {}
        },
        {
          "output_type": "display_data",
          "data": {
            "text/plain": [
              "vocab.txt:   0%|          | 0.00/213k [00:00<?, ?B/s]"
            ],
            "application/vnd.jupyter.widget-view+json": {
              "version_major": 2,
              "version_minor": 0,
              "model_id": "b7f69af312494a68927c6fd45b6d05a2"
            }
          },
          "metadata": {}
        },
        {
          "output_type": "display_data",
          "data": {
            "text/plain": [
              "tokenizer.json:   0%|          | 0.00/436k [00:00<?, ?B/s]"
            ],
            "application/vnd.jupyter.widget-view+json": {
              "version_major": 2,
              "version_minor": 0,
              "model_id": "b6f1ec554aac459d98bc5202e5f24fc0"
            }
          },
          "metadata": {}
        },
        {
          "output_type": "display_data",
          "data": {
            "text/plain": [
              "config.json:   0%|          | 0.00/570 [00:00<?, ?B/s]"
            ],
            "application/vnd.jupyter.widget-view+json": {
              "version_major": 2,
              "version_minor": 0,
              "model_id": "fca29a6517d44287aefc5daf9bb67f90"
            }
          },
          "metadata": {}
        },
        {
          "output_type": "display_data",
          "data": {
            "text/plain": [
              "model.safetensors:   0%|          | 0.00/436M [00:00<?, ?B/s]"
            ],
            "application/vnd.jupyter.widget-view+json": {
              "version_major": 2,
              "version_minor": 0,
              "model_id": "cc69150514f9405aa8da9096b4523171"
            }
          },
          "metadata": {}
        }
      ]
    },
    {
      "cell_type": "code",
      "source": [
        "len(bert_embeddings)"
      ],
      "metadata": {
        "id": "ZalLNbePZLUP",
        "colab": {
          "base_uri": "https://localhost:8080/"
        },
        "outputId": "45b75020-9071-4447-ed2a-527dbe37a294"
      },
      "execution_count": 21,
      "outputs": [
        {
          "output_type": "execute_result",
          "data": {
            "text/plain": [
              "3037"
            ]
          },
          "metadata": {},
          "execution_count": 21
        }
      ]
    },
    {
      "cell_type": "code",
      "source": [
        "import pickle\n",
        "\n",
        "save_dict = {\n",
        "    'bert_embeddings': bert_embeddings,\n",
        "    'y_encoded': y\n",
        "}\n",
        "\n",
        "with open('/content/drive/MyDrive/4.2_resources/softcom/data/bert_and_y_encodedC.pkl', 'wb') as file:\n",
        "    pickle.dump(save_dict, file)\n"
      ],
      "metadata": {
        "id": "CzijUnnUik-e"
      },
      "execution_count": 22,
      "outputs": []
    },
    {
      "cell_type": "code",
      "source": [
        "with open('/content/drive/MyDrive/4.2_resources/softcom/data/bert_and_y_encodedC.pkl', 'rb') as file:\n",
        "    loaded_dict = pickle.load(file)\n",
        "\n",
        "loaded_bert_embeddings = loaded_dict['bert_embeddings']\n",
        "loaded_y_encoded = loaded_dict['y_encoded']\n"
      ],
      "metadata": {
        "id": "aeNhKLq5i7Be"
      },
      "execution_count": 23,
      "outputs": []
    },
    {
      "cell_type": "code",
      "source": [
        "from sklearn.ensemble import RandomForestClassifier, GradientBoostingClassifier\n",
        "from sklearn.linear_model import LogisticRegression\n",
        "from sklearn.svm import SVC\n",
        "from sklearn.metrics import accuracy_score, classification_report\n",
        "from sklearn.naive_bayes import MultinomialNB\n",
        "from sklearn.neighbors import KNeighborsClassifier\n",
        "from sklearn.tree import DecisionTreeClassifier"
      ],
      "metadata": {
        "id": "gLHIactApnZV"
      },
      "execution_count": 24,
      "outputs": []
    },
    {
      "cell_type": "code",
      "source": [
        "from sklearn.model_selection import train_test_split\n",
        "from sklearn.neighbors import KNeighborsClassifier\n",
        "from sklearn.tree import DecisionTreeClassifier\n",
        "from sklearn.svm import SVC\n",
        "from sklearn.ensemble import RandomForestClassifier, GradientBoostingClassifier\n",
        "from sklearn.metrics import accuracy_score, classification_report\n",
        "\n",
        "def batch_train(model, X_train_batches, y_train_batches, X_test, y_test):\n",
        "    for X_batch, y_batch in zip(X_train_batches, y_train_batches):\n",
        "        model.fit(X_batch, y_batch)\n",
        "\n",
        "    y_pred = model.predict(X_test)\n",
        "    accuracy = accuracy_score(y_test, y_pred)\n",
        "    classification_rep = classification_report(y_test, y_pred)\n",
        "\n",
        "    return accuracy, classification_rep\n",
        "\n",
        "# Assuming loaded_bert_embeddings and loaded_y_encoded are defined\n",
        "X_train, X_test, y_train, y_test = train_test_split(loaded_bert_embeddings, loaded_y_encoded, test_size=0.4, random_state=42)\n",
        "\n",
        "batch_size = 50\n",
        "\n",
        "X_train_batches = [X_train[i:i+batch_size] for i in range(0, len(X_train), batch_size)]\n",
        "y_train_batches = [y_train[i:i+batch_size] for i in range(0, len(y_train), batch_size)]\n",
        "\n",
        "# K-Nearest Neighbors (KNN) Classifier\n",
        "knn_classifier = KNeighborsClassifier(n_neighbors=5)\n",
        "knn_accuracy, knn_classification_rep = batch_train(knn_classifier, X_train_batches, y_train_batches, X_test, y_test)\n",
        "\n",
        "print(\"K-Nearest Neighbors (KNN) Classifier:\")\n",
        "print(f\"Accuracy: {knn_accuracy}\")\n",
        "print(\"Classification Report:\\n\", knn_classification_rep)\n",
        "\n",
        "# Decision Tree (DT) Classifier\n",
        "dt_classifier = DecisionTreeClassifier(random_state=42)\n",
        "dt_accuracy, dt_classification_rep = batch_train(dt_classifier, X_train_batches, y_train_batches, X_test, y_test)\n",
        "\n",
        "print(\"\\nDecision Tree (DT) Classifier:\")\n",
        "print(f\"Accuracy: {dt_accuracy}\")\n",
        "print(\"Classification Report:\\n\", dt_classification_rep)\n",
        "\n",
        "# Linear Support Vector Machine (SVM) Classifier\n",
        "linear_svm_classifier = SVC(kernel='linear', C=1.0)\n",
        "linear_svm_accuracy, linear_svm_classification_rep = batch_train(linear_svm_classifier, X_train_batches, y_train_batches, X_test, y_test)\n",
        "\n",
        "print(\"\\nLinear Support Vector Machine (SVM) Classifier:\")\n",
        "print(f\"Accuracy: {linear_svm_accuracy}\")\n",
        "print(\"Classification Report:\\n\", linear_svm_classification_rep)\n",
        "\n",
        "# Random Forest Classifier\n",
        "rf_classifier = RandomForestClassifier(n_estimators=100, random_state=42)\n",
        "rf_accuracy, rf_classification_rep = batch_train(rf_classifier, X_train_batches, y_train_batches, X_test, y_test)\n",
        "\n",
        "print(\"\\nRandom Forest Classifier:\")\n",
        "print(f\"Accuracy: {rf_accuracy}\")\n",
        "print(\"Classification Report:\\n\", rf_classification_rep)\n",
        "\n",
        "# Gradient Boosting Classifier\n",
        "gb_classifier = GradientBoostingClassifier(n_estimators=100, random_state=42)\n",
        "gb_accuracy, gb_classification_rep = batch_train(gb_classifier, X_train_batches, y_train_batches, X_test, y_test)\n",
        "\n",
        "print(\"\\nGradient Boosting Classifier:\")\n",
        "print(f\"Accuracy: {gb_accuracy}\")\n",
        "print(\"Classification Report:\\n\", gb_classification_rep)"
      ],
      "metadata": {
        "id": "zFRejqAv62U6",
        "colab": {
          "base_uri": "https://localhost:8080/"
        },
        "outputId": "3024a4b6-bbe0-4a0e-fac4-50fbeca291e4"
      },
      "execution_count": null,
      "outputs": [
        {
          "output_type": "stream",
          "name": "stderr",
          "text": [
            "/usr/local/lib/python3.10/dist-packages/sklearn/metrics/_classification.py:1344: UndefinedMetricWarning: Precision and F-score are ill-defined and being set to 0.0 in labels with no predicted samples. Use `zero_division` parameter to control this behavior.\n",
            "  _warn_prf(average, modifier, msg_start, len(result))\n",
            "/usr/local/lib/python3.10/dist-packages/sklearn/metrics/_classification.py:1344: UndefinedMetricWarning: Precision and F-score are ill-defined and being set to 0.0 in labels with no predicted samples. Use `zero_division` parameter to control this behavior.\n",
            "  _warn_prf(average, modifier, msg_start, len(result))\n",
            "/usr/local/lib/python3.10/dist-packages/sklearn/metrics/_classification.py:1344: UndefinedMetricWarning: Precision and F-score are ill-defined and being set to 0.0 in labels with no predicted samples. Use `zero_division` parameter to control this behavior.\n",
            "  _warn_prf(average, modifier, msg_start, len(result))\n"
          ]
        },
        {
          "output_type": "stream",
          "name": "stdout",
          "text": [
            "K-Nearest Neighbors (KNN) Classifier:\n",
            "Accuracy: 0.7333333333333333\n",
            "Classification Report:\n",
            "               precision    recall  f1-score   support\n",
            "\n",
            "           0       0.26      0.06      0.09       195\n",
            "           1       0.75      0.97      0.85       905\n",
            "           2       0.00      0.00      0.00       115\n",
            "\n",
            "    accuracy                           0.73      1215\n",
            "   macro avg       0.34      0.34      0.31      1215\n",
            "weighted avg       0.60      0.73      0.65      1215\n",
            "\n",
            "\n",
            "Decision Tree (DT) Classifier:\n",
            "Accuracy: 0.5662551440329218\n",
            "Classification Report:\n",
            "               precision    recall  f1-score   support\n",
            "\n",
            "           0       0.18      0.24      0.21       195\n",
            "           1       0.76      0.70      0.73       905\n",
            "           2       0.08      0.09      0.08       115\n",
            "\n",
            "    accuracy                           0.57      1215\n",
            "   macro avg       0.34      0.34      0.34      1215\n",
            "weighted avg       0.60      0.57      0.58      1215\n",
            "\n",
            "\n",
            "Linear Support Vector Machine (SVM) Classifier:\n",
            "Accuracy: 0.6806584362139918\n",
            "Classification Report:\n",
            "               precision    recall  f1-score   support\n",
            "\n",
            "           0       0.24      0.18      0.21       195\n",
            "           1       0.76      0.87      0.81       905\n",
            "           2       0.06      0.02      0.03       115\n",
            "\n",
            "    accuracy                           0.68      1215\n",
            "   macro avg       0.35      0.36      0.35      1215\n",
            "weighted avg       0.61      0.68      0.64      1215\n",
            "\n",
            "\n",
            "Random Forest Classifier:\n",
            "Accuracy: 0.7440329218106996\n",
            "Classification Report:\n",
            "               precision    recall  f1-score   support\n",
            "\n",
            "           0       0.50      0.03      0.05       195\n",
            "           1       0.75      0.99      0.85       905\n",
            "           2       0.00      0.00      0.00       115\n",
            "\n",
            "    accuracy                           0.74      1215\n",
            "   macro avg       0.42      0.34      0.30      1215\n",
            "weighted avg       0.64      0.74      0.64      1215\n",
            "\n"
          ]
        }
      ]
    },
    {
      "cell_type": "code",
      "source": [
        "print(len(loaded_bert_embeddings))\n",
        "print(len(loaded_y_encoded))"
      ],
      "metadata": {
        "id": "BApQD3sTnuTc"
      },
      "execution_count": null,
      "outputs": []
    },
    {
      "cell_type": "code",
      "source": [
        "loaded_bert_embeddings"
      ],
      "metadata": {
        "id": "B2LwCMAboTvL"
      },
      "execution_count": null,
      "outputs": []
    },
    {
      "cell_type": "code",
      "source": [
        "loaded_y_encoded"
      ],
      "metadata": {
        "id": "2fqVOPTHoZuH"
      },
      "execution_count": null,
      "outputs": []
    },
    {
      "cell_type": "code",
      "source": [
        "# end end end  end end end  end end end  end end end  end end end  end end end  end end end  end end end\n",
        "# end end end  end end end  end end end  end end end  end end end  end end end  end end end  end end end\n",
        "# end end end  end end end  end end end  end end end  end end end  end end end  end end end  end end end\n",
        "# end end end  end end end  end end end  end end end  end end end  end end end  end end end  end end end"
      ],
      "metadata": {
        "id": "2WZIPB1FPQq9"
      },
      "execution_count": null,
      "outputs": []
    }
  ]
}